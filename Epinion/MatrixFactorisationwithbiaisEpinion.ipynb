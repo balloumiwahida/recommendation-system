{
  "nbformat": 4,
  "nbformat_minor": 0,
  "metadata": {
    "colab": {
      "name": "MFwithbiaisEpinion.ipynb",
      "provenance": [],
      "collapsed_sections": []
    },
    "kernelspec": {
      "name": "python3",
      "display_name": "Python 3"
    }
  },
  "cells": [
    {
      "cell_type": "markdown",
      "metadata": {
        "id": "2xXpYm2pRvGs",
        "colab_type": "text"
      },
      "source": [
        "# Matrix Factorisation - Linear with Bias"
      ]
    },
    {
      "cell_type": "code",
      "metadata": {
        "id": "z2Rqj1Se3JHH",
        "colab_type": "code",
        "colab": {}
      },
      "source": [
        "import numpy as np\n",
        "import pandas as pd\n",
        "import matplotlib.pyplot as plt\n",
        "import seaborn as sns"
      ],
      "execution_count": null,
      "outputs": []
    },
    {
      "cell_type": "code",
      "metadata": {
        "id": "sG9ZLzsu3QVJ",
        "colab_type": "code",
        "colab": {}
      },
      "source": [
        "%matplotlib inline"
      ],
      "execution_count": null,
      "outputs": []
    },
    {
      "cell_type": "markdown",
      "metadata": {
        "id": "kZ-hL_G8R5Pm",
        "colab_type": "text"
      },
      "source": [
        "### Prepare the data"
      ]
    },
    {
      "cell_type": "code",
      "metadata": {
        "id": "IULZjJUa3YHh",
        "colab_type": "code",
        "colab": {
          "base_uri": "https://localhost:8080/",
          "height": 204
        },
        "outputId": "f4622b09-8702-4dba-c162-158247e5dc87"
      },
      "source": [
        "df_rating=pd.read_csv('/content/ratings_data.txt',encoding = \"ISO-8859-1\",delim_whitespace = True, header=None, dtype=object,names = ['userid','itemid','rating']) \n",
        "df_rating.head()"
      ],
      "execution_count": null,
      "outputs": [
        {
          "output_type": "execute_result",
          "data": {
            "text/html": [
              "<div>\n",
              "<style scoped>\n",
              "    .dataframe tbody tr th:only-of-type {\n",
              "        vertical-align: middle;\n",
              "    }\n",
              "\n",
              "    .dataframe tbody tr th {\n",
              "        vertical-align: top;\n",
              "    }\n",
              "\n",
              "    .dataframe thead th {\n",
              "        text-align: right;\n",
              "    }\n",
              "</style>\n",
              "<table border=\"1\" class=\"dataframe\">\n",
              "  <thead>\n",
              "    <tr style=\"text-align: right;\">\n",
              "      <th></th>\n",
              "      <th>userid</th>\n",
              "      <th>itemid</th>\n",
              "      <th>rating</th>\n",
              "    </tr>\n",
              "  </thead>\n",
              "  <tbody>\n",
              "    <tr>\n",
              "      <th>0</th>\n",
              "      <td>1</td>\n",
              "      <td>101</td>\n",
              "      <td>5</td>\n",
              "    </tr>\n",
              "    <tr>\n",
              "      <th>1</th>\n",
              "      <td>1</td>\n",
              "      <td>102</td>\n",
              "      <td>3</td>\n",
              "    </tr>\n",
              "    <tr>\n",
              "      <th>2</th>\n",
              "      <td>1</td>\n",
              "      <td>10</td>\n",
              "      <td>3</td>\n",
              "    </tr>\n",
              "    <tr>\n",
              "      <th>3</th>\n",
              "      <td>1</td>\n",
              "      <td>103</td>\n",
              "      <td>5</td>\n",
              "    </tr>\n",
              "    <tr>\n",
              "      <th>4</th>\n",
              "      <td>1</td>\n",
              "      <td>104</td>\n",
              "      <td>2</td>\n",
              "    </tr>\n",
              "  </tbody>\n",
              "</table>\n",
              "</div>"
            ],
            "text/plain": [
              "  userid itemid rating\n",
              "0      1    101      5\n",
              "1      1    102      3\n",
              "2      1     10      3\n",
              "3      1    103      5\n",
              "4      1    104      2"
            ]
          },
          "metadata": {
            "tags": []
          },
          "execution_count": 13
        }
      ]
    },
    {
      "cell_type": "code",
      "metadata": {
        "id": "RxW6T9kd3dWH",
        "colab_type": "code",
        "colab": {
          "base_uri": "https://localhost:8080/",
          "height": 122
        },
        "outputId": "3c053492-6feb-4f76-eced-8ec9b2e67a2a"
      },
      "source": [
        "pip install sklearn"
      ],
      "execution_count": null,
      "outputs": [
        {
          "output_type": "stream",
          "text": [
            "Requirement already satisfied: sklearn in /usr/local/lib/python3.6/dist-packages (0.0)\n",
            "Requirement already satisfied: scikit-learn in /usr/local/lib/python3.6/dist-packages (from sklearn) (0.22.2.post1)\n",
            "Requirement already satisfied: scipy>=0.17.0 in /usr/local/lib/python3.6/dist-packages (from scikit-learn->sklearn) (1.4.1)\n",
            "Requirement already satisfied: joblib>=0.11 in /usr/local/lib/python3.6/dist-packages (from scikit-learn->sklearn) (0.16.0)\n",
            "Requirement already satisfied: numpy>=1.11.0 in /usr/local/lib/python3.6/dist-packages (from scikit-learn->sklearn) (1.18.5)\n"
          ],
          "name": "stdout"
        }
      ]
    },
    {
      "cell_type": "code",
      "metadata": {
        "id": "SOErh-fr3kwY",
        "colab_type": "code",
        "colab": {}
      },
      "source": [
        "from sklearn.preprocessing import LabelEncoder"
      ],
      "execution_count": null,
      "outputs": []
    },
    {
      "cell_type": "code",
      "metadata": {
        "id": "Ny0o0zCE3mMc",
        "colab_type": "code",
        "colab": {}
      },
      "source": [
        "def encode_user_item(df, user_col, item_col, rating_col):\n",
        "    \"\"\"Function to encode users and items\n",
        "    \n",
        "    Params:     \n",
        "        df (pd.DataFrame): Pandas data frame to be used.\n",
        "        user_col (string): Name of the user column.\n",
        "        item_col (string): Name of the item column.\n",
        "        rating_col (string): Name of the rating column.\n",
        "        timestamp_col (string): Name of the timestamp column.\n",
        "    \n",
        "    Returns: \n",
        "        encoded_df (pd.DataFrame): Modifed dataframe with the users and items index\n",
        "    \"\"\"\n",
        "    \n",
        "    encoded_df = df.copy()\n",
        "    \n",
        "    user_encoder = LabelEncoder()\n",
        "    user_encoder.fit(encoded_df[user_col].values)\n",
        "    n_users = len(user_encoder.classes_)\n",
        "    \n",
        "    item_encoder = LabelEncoder()\n",
        "    item_encoder.fit(encoded_df[item_col].values)\n",
        "    n_items = len(item_encoder.classes_)\n",
        "\n",
        "    rating_encoder = LabelEncoder()\n",
        "    rating_encoder.fit(encoded_df[rating_col].values)\n",
        "    n_rating = len(rating_encoder.classes_)\n",
        "\n",
        "    encoded_df[\"USER\"] = user_encoder.transform(encoded_df[user_col])\n",
        "    encoded_df[\"ITEM\"] = item_encoder.transform(encoded_df[item_col])\n",
        "    encoded_df[\"RATING\"] = rating_encoder.transform(encoded_df[rating_col])\n",
        "    \n",
        "    #encoded_df.rename({rating_col: \"RATING\"}, axis=1, inplace=True)\n",
        "    \n",
        "    print(\"Number of users: \", n_users)\n",
        "    print(\"Number of items: \", n_items)\n",
        "    \n",
        "    return encoded_df, user_encoder, item_encoder, rating_encoder"
      ],
      "execution_count": null,
      "outputs": []
    },
    {
      "cell_type": "code",
      "metadata": {
        "id": "9Xzsxto13uKp",
        "colab_type": "code",
        "colab": {
          "base_uri": "https://localhost:8080/",
          "height": 51
        },
        "outputId": "f3cd0ff4-8539-44d5-85bb-2ede837dc5a5"
      },
      "source": [
        "# Data Encoding\n",
        "DATA, user_encoder, item_encoder,rating_encoder = encode_user_item(df_rating, \"userid\", \"itemid\", \"rating\")"
      ],
      "execution_count": null,
      "outputs": [
        {
          "output_type": "stream",
          "text": [
            "Number of users:  40163\n",
            "Number of items:  139738\n"
          ],
          "name": "stdout"
        }
      ]
    },
    {
      "cell_type": "code",
      "metadata": {
        "id": "IOx0Vwkg5tZR",
        "colab_type": "code",
        "colab": {
          "base_uri": "https://localhost:8080/",
          "height": 34
        },
        "outputId": "31f77a1a-7ea9-4bbe-c22b-2ce5ab8fa7d1"
      },
      "source": [
        "n_users = DATA.USER.nunique()\n",
        "n_items = DATA.ITEM.nunique()\n",
        "n_users, n_items"
      ],
      "execution_count": null,
      "outputs": [
        {
          "output_type": "execute_result",
          "data": {
            "text/plain": [
              "(40163, 139738)"
            ]
          },
          "metadata": {
            "tags": []
          },
          "execution_count": 15
        }
      ]
    },
    {
      "cell_type": "code",
      "metadata": {
        "id": "ZKqMvpq95uki",
        "colab_type": "code",
        "colab": {
          "base_uri": "https://localhost:8080/",
          "height": 34
        },
        "outputId": "ddaa29ad-740d-4429-98f9-5dac583a9e40"
      },
      "source": [
        "max_rating = DATA.RATING.max()\n",
        "min_rating = DATA.RATING.min()\n",
        "min_rating, max_rating"
      ],
      "execution_count": null,
      "outputs": [
        {
          "output_type": "execute_result",
          "data": {
            "text/plain": [
              "(0, 4)"
            ]
          },
          "metadata": {
            "tags": []
          },
          "execution_count": 16
        }
      ]
    },
    {
      "cell_type": "code",
      "metadata": {
        "id": "YO2bGZ1x41_T",
        "colab_type": "code",
        "colab": {}
      },
      "source": [
        "def user_split (df, ratios, chrono=False):\n",
        "    \n",
        "    \"\"\"Function to split pandas DataFrame into train, validation and test (by user in chronological order)\n",
        "    \n",
        "    Params:     \n",
        "        df (pd.DataFrame): Pandas data frame to be split.\n",
        "        ratios (list of floats): list of ratios for split. The ratios have to sum to 1.\n",
        "        chrono (boolean): whether to sort in chronological order or not\n",
        "    \n",
        "    Returns: \n",
        "        list: List of pd.DataFrame split by the given specifications.\n",
        "    \"\"\"\n",
        "    seed = 42                  # Set random seed\n",
        "    samples = df.shape[0]      # Number of samples\n",
        "    col_time = \"TIMESTAMP\"\n",
        "    col_user = \"USER\"\n",
        "    \n",
        "    # Split by each group and aggregate splits together.\n",
        "    splits = []\n",
        "\n",
        "    # Sort in chronological order, the split by users\n",
        "    if chrono == True:\n",
        "        df_grouped = df.sort_values(col_time).groupby(col_user)\n",
        "    else:\n",
        "        df_grouped = df.groupby(col_user)\n",
        "\n",
        "        \n",
        "    \n",
        "    for name, group in df_grouped:\n",
        "        group_splits = random_split(df_grouped.get_group(name), ratios, shuffle=False)\n",
        "        \n",
        "        # Concatenate the list of split dataframes.\n",
        "        concat_group_splits = pd.concat(group_splits)\n",
        "        splits.append(concat_group_splits)\n",
        "    \n",
        "    # Concatenate splits for all the groups together.\n",
        "    splits_all = pd.concat(splits)\n",
        "\n",
        "    # Take split by split_index\n",
        "    splits_list = [ splits_all[splits_all[\"split_index\"] == x] for x in range(len(ratios))]\n",
        "\n",
        "    return splits_list"
      ],
      "execution_count": null,
      "outputs": []
    },
    {
      "cell_type": "code",
      "metadata": {
        "id": "iubtiSD9467u",
        "colab_type": "code",
        "colab": {}
      },
      "source": [
        "def random_split (df, ratios, shuffle=False):\n",
        "    \n",
        "    \"\"\"Function to split pandas DataFrame into train, validation and test\n",
        "    \n",
        "    Params:     \n",
        "        df (pd.DataFrame): Pandas data frame to be split.\n",
        "        ratios (list of floats): list of ratios for split. The ratios have to sum to 1.\n",
        "    \n",
        "    Returns: \n",
        "        list: List of pd.DataFrame split by the given specifications.\n",
        "    \"\"\"\n",
        "    seed = 42                  # Set random seed\n",
        "    if shuffle == True:\n",
        "        df = df.sample(frac=1)     # Shuffle the data\n",
        "    samples = df.shape[0]      # Number of samples\n",
        "    \n",
        "    # Converts [0.7, 0.2, 0.1] to [0.7, 0.9]\n",
        "    split_ratio = np.cumsum(ratios).tolist()[:-1] # Get split index\n",
        "    \n",
        "    # Get the rounded integer split index\n",
        "    split_index = [round(x * samples) for x in split_ratio]\n",
        "    \n",
        "    # split the data\n",
        "    splits = np.split(df, split_index)\n",
        "    \n",
        "    # Add split index (this makes splitting by group more efficient).\n",
        "    for i in range(len(ratios)):\n",
        "        splits[i][\"split_index\"] = i\n",
        "\n",
        "    return splits"
      ],
      "execution_count": null,
      "outputs": []
    },
    {
      "cell_type": "code",
      "metadata": {
        "id": "_rGhuFHH5BpI",
        "colab_type": "code",
        "colab": {}
      },
      "source": [
        "# Data Splitting\n",
        "train, test = user_split(DATA, [0.8, 0.2])"
      ],
      "execution_count": null,
      "outputs": []
    },
    {
      "cell_type": "code",
      "metadata": {
        "id": "kgIkVq_L5G_z",
        "colab_type": "code",
        "colab": {
          "base_uri": "https://localhost:8080/",
          "height": 34
        },
        "outputId": "3e620b79-9229-4cde-d4e0-c4e88cf12c9a"
      },
      "source": [
        "train.shape, test.shape"
      ],
      "execution_count": null,
      "outputs": [
        {
          "output_type": "execute_result",
          "data": {
            "text/plain": [
              "((533733, 7), (131090, 7))"
            ]
          },
          "metadata": {
            "tags": []
          },
          "execution_count": 20
        }
      ]
    },
    {
      "cell_type": "markdown",
      "metadata": {
        "id": "X0OUONZ9SETY",
        "colab_type": "text"
      },
      "source": [
        "## Explicit Matrix Factorisation "
      ]
    },
    {
      "cell_type": "code",
      "metadata": {
        "id": "HkajH6Ey5LaO",
        "colab_type": "code",
        "colab": {}
      },
      "source": [
        "from keras.models import Model\n",
        "from keras.layers import Input, Embedding, Flatten, Dot, Add, Lambda, Activation, Reshape\n",
        "from keras.regularizers import l2\n",
        "from keras.constraints import non_neg\n",
        "from keras.optimizers import Adam\n",
        "from keras.utils import plot_model\n",
        "from keras.utils.vis_utils import model_to_dot"
      ],
      "execution_count": null,
      "outputs": []
    },
    {
      "cell_type": "code",
      "metadata": {
        "id": "YP2ROztk5btC",
        "colab_type": "code",
        "colab": {}
      },
      "source": [
        "def Explicit_MF_Bias(n_users, n_items, n_factors):\n",
        "    \n",
        "    # Item Layer\n",
        "    item_input = Input(shape=[1], name='Item')\n",
        "    item_embedding = Embedding(n_items, n_factors, embeddings_regularizer=l2(1e-6), name='ItemEmbedding')(item_input)\n",
        "    item_vec = Flatten(name='FlattenItemE')(item_embedding)\n",
        "    \n",
        "    # Item Bias\n",
        "    item_bias = Embedding(n_items, 1, embeddings_regularizer=l2(1e-6), name='ItemBias')(item_input)\n",
        "    item_bias_vec = Flatten(name='FlattenItemBiasE')(item_bias)\n",
        "\n",
        "    # User Layer\n",
        "    user_input = Input(shape=[1], name='User')\n",
        "    user_embedding = Embedding(n_users, n_factors, embeddings_regularizer=l2(1e-6), name='UserEmbedding')(user_input)\n",
        "    user_vec = Flatten(name='FlattenUserE')(user_embedding)\n",
        "    \n",
        "    # User Bias\n",
        "    user_bias = Embedding(n_users, 1, embeddings_regularizer=l2(1e-6), name='UserBias')(user_input)\n",
        "    user_bias_vec = Flatten(name='FlattenUserBiasE')(user_bias)\n",
        "\n",
        "    # Dot Product of Item and User & then Add Bias\n",
        "    DotProduct = Dot(axes=1, name='DotProduct')([item_vec, user_vec])\n",
        "    AddBias = Add(name=\"AddBias\")([DotProduct, item_bias_vec, user_bias_vec])\n",
        "    \n",
        "    # Scaling for each user\n",
        "    y = Activation('sigmoid')(AddBias)\n",
        "    rating_output = Lambda(lambda x: x * (max_rating - min_rating) + min_rating)(y)\n",
        "    \n",
        "    # Model Creation\n",
        "    model = Model([user_input, item_input], rating_output)\n",
        "    \n",
        "    # Compile Model\n",
        "    model.compile(loss='mean_squared_error', optimizer=Adam(lr=0.001))\n",
        "    \n",
        "    return model"
      ],
      "execution_count": null,
      "outputs": []
    },
    {
      "cell_type": "code",
      "metadata": {
        "id": "iHAUR7335c_u",
        "colab_type": "code",
        "colab": {}
      },
      "source": [
        "n_factors = 50\n",
        "model = Explicit_MF_Bias(n_users, n_items, n_factors)"
      ],
      "execution_count": null,
      "outputs": []
    },
    {
      "cell_type": "code",
      "metadata": {
        "id": "rzfXtKov50lJ",
        "colab_type": "code",
        "colab": {
          "base_uri": "https://localhost:8080/",
          "height": 680
        },
        "outputId": "66435841-e484-4acc-af5f-d861194c94f3"
      },
      "source": [
        "model.summary()"
      ],
      "execution_count": null,
      "outputs": [
        {
          "output_type": "stream",
          "text": [
            "Model: \"functional_1\"\n",
            "__________________________________________________________________________________________________\n",
            "Layer (type)                    Output Shape         Param #     Connected to                     \n",
            "==================================================================================================\n",
            "Item (InputLayer)               [(None, 1)]          0                                            \n",
            "__________________________________________________________________________________________________\n",
            "User (InputLayer)               [(None, 1)]          0                                            \n",
            "__________________________________________________________________________________________________\n",
            "ItemEmbedding (Embedding)       (None, 1, 50)        6986900     Item[0][0]                       \n",
            "__________________________________________________________________________________________________\n",
            "UserEmbedding (Embedding)       (None, 1, 50)        2008150     User[0][0]                       \n",
            "__________________________________________________________________________________________________\n",
            "FlattenItemE (Flatten)          (None, 50)           0           ItemEmbedding[0][0]              \n",
            "__________________________________________________________________________________________________\n",
            "FlattenUserE (Flatten)          (None, 50)           0           UserEmbedding[0][0]              \n",
            "__________________________________________________________________________________________________\n",
            "ItemBias (Embedding)            (None, 1, 1)         139738      Item[0][0]                       \n",
            "__________________________________________________________________________________________________\n",
            "UserBias (Embedding)            (None, 1, 1)         40163       User[0][0]                       \n",
            "__________________________________________________________________________________________________\n",
            "DotProduct (Dot)                (None, 1)            0           FlattenItemE[0][0]               \n",
            "                                                                 FlattenUserE[0][0]               \n",
            "__________________________________________________________________________________________________\n",
            "FlattenItemBiasE (Flatten)      (None, 1)            0           ItemBias[0][0]                   \n",
            "__________________________________________________________________________________________________\n",
            "FlattenUserBiasE (Flatten)      (None, 1)            0           UserBias[0][0]                   \n",
            "__________________________________________________________________________________________________\n",
            "AddBias (Add)                   (None, 1)            0           DotProduct[0][0]                 \n",
            "                                                                 FlattenItemBiasE[0][0]           \n",
            "                                                                 FlattenUserBiasE[0][0]           \n",
            "__________________________________________________________________________________________________\n",
            "activation (Activation)         (None, 1)            0           AddBias[0][0]                    \n",
            "__________________________________________________________________________________________________\n",
            "lambda (Lambda)                 (None, 1)            0           activation[0][0]                 \n",
            "==================================================================================================\n",
            "Total params: 9,174,951\n",
            "Trainable params: 9,174,951\n",
            "Non-trainable params: 0\n",
            "__________________________________________________________________________________________________\n"
          ],
          "name": "stdout"
        }
      ]
    },
    {
      "cell_type": "markdown",
      "metadata": {
        "id": "PPR83UfATAs4",
        "colab_type": "text"
      },
      "source": [
        "### Train the Model"
      ]
    },
    {
      "cell_type": "code",
      "metadata": {
        "id": "nVLtp-1P57v1",
        "colab_type": "code",
        "colab": {
          "base_uri": "https://localhost:8080/",
          "height": 221
        },
        "outputId": "768ea9f4-bdbd-488b-a305-987ce4cefaf2"
      },
      "source": [
        "%%time\n",
        "output = model.fit([train.USER, train.ITEM], train.RATING, \n",
        "                                  batch_size=128, epochs=5, verbose=1, \n",
        "                   validation_data=([test.USER, test.ITEM], test.RATING))"
      ],
      "execution_count": null,
      "outputs": [
        {
          "output_type": "stream",
          "text": [
            "Epoch 1/5\n",
            "4170/4170 [==============================] - 356s 85ms/step - loss: 2.0144 - val_loss: 1.8262\n",
            "Epoch 2/5\n",
            "4170/4170 [==============================] - 357s 86ms/step - loss: 1.3101 - val_loss: 1.5505\n",
            "Epoch 3/5\n",
            "4170/4170 [==============================] - 356s 85ms/step - loss: 0.9098 - val_loss: 1.4893\n",
            "Epoch 4/5\n",
            "4170/4170 [==============================] - 359s 86ms/step - loss: 0.6510 - val_loss: 1.4912\n",
            "Epoch 5/5\n",
            "4170/4170 [==============================] - 358s 86ms/step - loss: 0.4969 - val_loss: 1.5065\n",
            "CPU times: user 51min 12s, sys: 1min 39s, total: 52min 51s\n",
            "Wall time: 29min 47s\n"
          ],
          "name": "stdout"
        }
      ]
    },
    {
      "cell_type": "code",
      "metadata": {
        "id": "_Bidbihd5hUe",
        "colab_type": "code",
        "colab": {}
      },
      "source": [
        "import altair as alt\n",
        "import matplotlib.pyplot as plt\n",
        "from mpl_toolkits.mplot3d import Axes3D\n",
        "\n",
        "from keras.preprocessing.image import ImageDataGenerator\n",
        "    \n",
        "        \n",
        "# Visualise the metrics from the model\n",
        "def metrics(history):\n",
        "    df = pd.DataFrame(history)\n",
        "    df.reset_index()\n",
        "    df[\"batch\"] = df.index + 1\n",
        "    df = df.melt(\"batch\", var_name=\"name\")\n",
        "    df[\"val\"] = df.name.str.startswith(\"val\")\n",
        "    df[\"type\"] = df[\"val\"]\n",
        "    df[\"metrics\"] = df[\"val\"]\n",
        "    df.loc[df.val == False, \"type\"] = \"training\"\n",
        "    df.loc[df.val == True, \"type\"] = \"validation\"\n",
        "    df.loc[df.val == False, \"metrics\"] = df.name\n",
        "    df.loc[df.val == True, \"metrics\"] = df.name.str.split(\"val_\", expand=True)[1]\n",
        "    df = df.drop([\"name\", \"val\"], axis=1)\n",
        "    \n",
        "    base = alt.Chart().encode(\n",
        "        x = \"batch:Q\",\n",
        "        y = \"value:Q\",\n",
        "        color = \"type\"\n",
        "    ).properties(width = 300, height = 300)\n",
        "\n",
        "    layers = base.mark_circle(size = 50).encode(tooltip = [\"batch\", \"value\"]) + base.mark_line()\n",
        "    chart = layers.facet(column='metrics:N', data=df).resolve_scale(y='independent')    \n",
        "    \n",
        "    return chart"
      ],
      "execution_count": null,
      "outputs": []
    },
    {
      "cell_type": "code",
      "metadata": {
        "id": "Woke8dPU6qRV",
        "colab_type": "code",
        "colab": {
          "base_uri": "https://localhost:8080/",
          "height": 426
        },
        "outputId": "1bf2ae84-a29d-4e19-897e-cab8140e8ffd"
      },
      "source": [
        "metrics(output.history)"
      ],
      "execution_count": null,
      "outputs": [
        {
          "output_type": "execute_result",
          "data": {
            "text/plain": [
              "alt.FacetChart(...)"
            ],
            "text/html": [
              "\n",
              "<div id=\"altair-viz-574fb2a399454e05ba0c710d2fc45b98\"></div>\n",
              "<script type=\"text/javascript\">\n",
              "  (function(spec, embedOpt){\n",
              "    let outputDiv = document.currentScript.previousElementSibling;\n",
              "    if (outputDiv.id !== \"altair-viz-574fb2a399454e05ba0c710d2fc45b98\") {\n",
              "      outputDiv = document.getElementById(\"altair-viz-574fb2a399454e05ba0c710d2fc45b98\");\n",
              "    }\n",
              "    const paths = {\n",
              "      \"vega\": \"https://cdn.jsdelivr.net/npm//vega@5?noext\",\n",
              "      \"vega-lib\": \"https://cdn.jsdelivr.net/npm//vega-lib?noext\",\n",
              "      \"vega-lite\": \"https://cdn.jsdelivr.net/npm//vega-lite@4.8.1?noext\",\n",
              "      \"vega-embed\": \"https://cdn.jsdelivr.net/npm//vega-embed@6?noext\",\n",
              "    };\n",
              "\n",
              "    function loadScript(lib) {\n",
              "      return new Promise(function(resolve, reject) {\n",
              "        var s = document.createElement('script');\n",
              "        s.src = paths[lib];\n",
              "        s.async = true;\n",
              "        s.onload = () => resolve(paths[lib]);\n",
              "        s.onerror = () => reject(`Error loading script: ${paths[lib]}`);\n",
              "        document.getElementsByTagName(\"head\")[0].appendChild(s);\n",
              "      });\n",
              "    }\n",
              "\n",
              "    function showError(err) {\n",
              "      outputDiv.innerHTML = `<div class=\"error\" style=\"color:red;\">${err}</div>`;\n",
              "      throw err;\n",
              "    }\n",
              "\n",
              "    function displayChart(vegaEmbed) {\n",
              "      vegaEmbed(outputDiv, spec, embedOpt)\n",
              "        .catch(err => showError(`Javascript Error: ${err.message}<br>This usually means there's a typo in your chart specification. See the javascript console for the full traceback.`));\n",
              "    }\n",
              "\n",
              "    if(typeof define === \"function\" && define.amd) {\n",
              "      requirejs.config({paths});\n",
              "      require([\"vega-embed\"], displayChart, err => showError(`Error loading script: ${err.message}`));\n",
              "    } else if (typeof vegaEmbed === \"function\") {\n",
              "      displayChart(vegaEmbed);\n",
              "    } else {\n",
              "      loadScript(\"vega\")\n",
              "        .then(() => loadScript(\"vega-lite\"))\n",
              "        .then(() => loadScript(\"vega-embed\"))\n",
              "        .catch(showError)\n",
              "        .then(() => displayChart(vegaEmbed));\n",
              "    }\n",
              "  })({\"config\": {\"view\": {\"continuousWidth\": 400, \"continuousHeight\": 300}}, \"data\": {\"name\": \"data-990e571a56da881735b757c0caf08c0a\"}, \"facet\": {\"column\": {\"type\": \"nominal\", \"field\": \"metrics\"}}, \"spec\": {\"layer\": [{\"mark\": {\"type\": \"circle\", \"size\": 50}, \"encoding\": {\"color\": {\"type\": \"nominal\", \"field\": \"type\"}, \"tooltip\": [{\"type\": \"quantitative\", \"field\": \"batch\"}, {\"type\": \"quantitative\", \"field\": \"value\"}], \"x\": {\"type\": \"quantitative\", \"field\": \"batch\"}, \"y\": {\"type\": \"quantitative\", \"field\": \"value\"}}, \"height\": 300, \"width\": 300}, {\"mark\": \"line\", \"encoding\": {\"color\": {\"type\": \"nominal\", \"field\": \"type\"}, \"x\": {\"type\": \"quantitative\", \"field\": \"batch\"}, \"y\": {\"type\": \"quantitative\", \"field\": \"value\"}}, \"height\": 300, \"width\": 300}]}, \"resolve\": {\"scale\": {\"y\": \"independent\"}}, \"$schema\": \"https://vega.github.io/schema/vega-lite/v4.8.1.json\", \"datasets\": {\"data-990e571a56da881735b757c0caf08c0a\": [{\"batch\": 1, \"value\": 2.0144004821777344, \"type\": \"training\", \"metrics\": \"loss\"}, {\"batch\": 2, \"value\": 1.310137152671814, \"type\": \"training\", \"metrics\": \"loss\"}, {\"batch\": 3, \"value\": 0.9098184704780579, \"type\": \"training\", \"metrics\": \"loss\"}, {\"batch\": 4, \"value\": 0.6510220766067505, \"type\": \"training\", \"metrics\": \"loss\"}, {\"batch\": 5, \"value\": 0.49686160683631897, \"type\": \"training\", \"metrics\": \"loss\"}, {\"batch\": 1, \"value\": 1.8262426853179932, \"type\": \"validation\", \"metrics\": \"loss\"}, {\"batch\": 2, \"value\": 1.550489068031311, \"type\": \"validation\", \"metrics\": \"loss\"}, {\"batch\": 3, \"value\": 1.489283561706543, \"type\": \"validation\", \"metrics\": \"loss\"}, {\"batch\": 4, \"value\": 1.4912300109863281, \"type\": \"validation\", \"metrics\": \"loss\"}, {\"batch\": 5, \"value\": 1.5064703226089478, \"type\": \"validation\", \"metrics\": \"loss\"}]}}, {\"mode\": \"vega-lite\"});\n",
              "</script>"
            ]
          },
          "metadata": {
            "tags": []
          },
          "execution_count": 27
        }
      ]
    },
    {
      "cell_type": "markdown",
      "metadata": {
        "id": "Ewq4_Q1STR1p",
        "colab_type": "text"
      },
      "source": [
        "### Score the Model"
      ]
    },
    {
      "cell_type": "code",
      "metadata": {
        "id": "F4gUOZ5O6ufn",
        "colab_type": "code",
        "colab": {
          "base_uri": "https://localhost:8080/",
          "height": 51
        },
        "outputId": "eaa03b7e-1e6e-4da2-e6bc-d985cd599817"
      },
      "source": [
        "score = model.evaluate([test.USER, test.ITEM], test.RATING, verbose=1)\n",
        "score"
      ],
      "execution_count": null,
      "outputs": [
        {
          "output_type": "stream",
          "text": [
            "4097/4097 [==============================] - 80s 20ms/step - loss: 1.5065\n"
          ],
          "name": "stdout"
        },
        {
          "output_type": "execute_result",
          "data": {
            "text/plain": [
              "1.5064709186553955"
            ]
          },
          "metadata": {
            "tags": []
          },
          "execution_count": 28
        }
      ]
    },
    {
      "cell_type": "code",
      "metadata": {
        "id": "7WN1ioQKxrOa",
        "colab_type": "code",
        "colab": {
          "base_uri": "https://localhost:8080/",
          "height": 51
        },
        "outputId": "76801d9b-2e44-4f04-ffac-49f211e03362"
      },
      "source": [
        "from sklearn.metrics import mean_absolute_error\n",
        "from sklearn.metrics import mean_squared_error\n",
        "print(mean_absolute_error(test.RATING, model.predict([test.USER, test.ITEM])))\n",
        "print(mean_squared_error(test.RATING, model.predict([test.USER, test.ITEM])))"
      ],
      "execution_count": null,
      "outputs": [
        {
          "output_type": "stream",
          "text": [
            "0.9766721821993474\n",
            "1.3809103502983382\n"
          ],
          "name": "stdout"
        }
      ]
    },
    {
      "cell_type": "markdown",
      "metadata": {
        "id": "0Kt6hjG9T7XK",
        "colab_type": "text"
      },
      "source": [
        "### Prediction & recommendation"
      ]
    },
    {
      "cell_type": "code",
      "metadata": {
        "id": "3aggW6Yd6y31",
        "colab_type": "code",
        "colab": {}
      },
      "source": [
        "def get_embedding(model, name):\n",
        "    embedding = model.get_layer(name = name).get_weights()[0]\n",
        "    return embedding\n",
        "\n",
        "def get_predictions(model, data):\n",
        "    \"\"\"\n",
        "    Get predictions for all user-item combinations\n",
        "    \n",
        "    Params:\n",
        "        data (pandas.DataFrame): DataFrame of entire rating data\n",
        "        model (Keras.model): Trained keras model\n",
        "        \n",
        "    Returns:\n",
        "        pd.DataFrame: DataFrame of rating predictions for each user and each item\n",
        "        \n",
        "    \"\"\"\n",
        "    # Create the crossjoin for user-item\n",
        "    user_item = user_item_crossjoin(data)\n",
        "    \n",
        "    # Score for every user-item combination\n",
        "    user_item[\"RATING_PRED\"] = model.predict([user_item.USER, user_item.ITEM])\n",
        "    \n",
        "    return user_item\n",
        "\n",
        "\n",
        "def user_item_crossjoin(df):\n",
        "    \"\"\"\n",
        "    Get cross-join of all users and items\n",
        "    \n",
        "    Args:\n",
        "        df (pd.DataFrame): Source dataframe.\n",
        "\n",
        "    Returns:\n",
        "        pd.DataFrame: Dataframe with crossjoins\n",
        "    \n",
        "    \"\"\"\n",
        "    \n",
        "    crossjoin_list = []\n",
        "    for user in df.USER.unique():\n",
        "        for item in df.ITEM.unique():\n",
        "            crossjoin_list.append([user, item])\n",
        "\n",
        "    cross_join_df = pd.DataFrame(data=crossjoin_list, columns=[\"USER\", \"ITEM\"])\n",
        "    \n",
        "    return cross_join_df\n",
        "    \n",
        "\n",
        "def filter_by(df, filter_by_df, filter_by_cols):\n",
        "    \"\"\"From the input DataFrame (df), remove the records whose target column (filter_by_cols) values are\n",
        "    exist in the filter-by DataFrame (filter_by_df)\n",
        "\n",
        "    Args:\n",
        "        df (pd.DataFrame): Source dataframe.\n",
        "        filter_by_df (pd.DataFrame): Filter dataframe.\n",
        "        filter_by_cols (iterable of str): Filter columns.\n",
        "\n",
        "    Returns:\n",
        "        pd.DataFrame: Dataframe filtered by filter_by_df on filter_by_cols\n",
        "    \"\"\"\n",
        "\n",
        "    return df.loc[\n",
        "        ~df.set_index(filter_by_cols).index.isin(\n",
        "            filter_by_df.set_index(filter_by_cols).index\n",
        "        )\n",
        "    ]\n",
        "\n",
        "\n",
        "def get_top_k_items(df, col_user, col_rating, k=10):\n",
        "    \"\"\"Get the top k items for each user.\n",
        "\n",
        "    Params:\n",
        "        dataframe (pandas.DataFrame): DataFrame of rating data\n",
        "        col_user (str): column name for user\n",
        "        col_rating (str): column name for rating\n",
        "        k (int): number of items for each user\n",
        "\n",
        "    Returns:\n",
        "        pd.DataFrame: DataFrame of top k items for each user, sorted by `col_user` and `rank`\n",
        "    \"\"\"\n",
        "    # Sort dataframe by col_user and (top k) col_rating\n",
        "    top_k_items = (\n",
        "        df.groupby(col_user, as_index=False)\n",
        "        .apply(lambda x: x.nlargest(k, col_rating))\n",
        "        .reset_index(drop=True)\n",
        "    )\n",
        "    # Add ranks\n",
        "    top_k_items[\"rank\"] = top_k_items.groupby(col_user, sort=False).cumcount() + 1\n",
        "    return top_k_items\n",
        "\n",
        "\n",
        "def recommend_topk(model, data, train, k=5):\n",
        "    \n",
        "    \"\"\"\n",
        "    Params:\n",
        "        data (pandas.DataFrame): DataFrame of entire rating data\n",
        "        train (pandas.DataFrame): DataFrame of train rating data\n",
        "        k (int): number of items for each user\n",
        "\n",
        "    Returns:\n",
        "        pd.DataFrame: DataFrame of top k items for each user, sorted by `col_user` and `rank`\n",
        "    \n",
        "    \"\"\"\n",
        "    \n",
        "    # Get predictions for all user-item combination\n",
        "    all_predictions = get_predictions(model, data)\n",
        "    \n",
        "    # Handle Missing Values\n",
        "    all_predictions.fillna(0, inplace=True)\n",
        "    \n",
        "    # Filter already seen items\n",
        "    all_predictions_unseen = filter_by(all_predictions, train, [\"USER\", \"ITEM\"])\n",
        "    \n",
        "    recommend_topk_df = get_top_k_items(all_predictions_unseen, \"USER\", \"RATING_PRED\", k=5)\n",
        "    \n",
        "    return recommend_topk_df"
      ],
      "execution_count": null,
      "outputs": []
    },
    {
      "cell_type": "code",
      "metadata": {
        "id": "XGn_5GZh7N2l",
        "colab_type": "code",
        "colab": {}
      },
      "source": [
        "item_embedding = get_embedding(model, \"ItemEmbedding\")\n",
        "user_embedding = get_embedding(model, \"UserEmbedding\")"
      ],
      "execution_count": null,
      "outputs": []
    },
    {
      "cell_type": "code",
      "metadata": {
        "id": "b9x5kDCY7PHv",
        "colab_type": "code",
        "colab": {
          "base_uri": "https://localhost:8080/",
          "height": 51
        },
        "outputId": "0c12c48f-c203-4743-8b85-acb2b433d0d3"
      },
      "source": [
        "%%time\n",
        "predictions = get_predictions(model, DATA)"
      ],
      "execution_count": null,
      "outputs": [
        {
          "output_type": "stream",
          "text": [
            "CPU times: user 8min 43s, sys: 1min 17s, total: 10min 1s\n",
            "Wall time: 8min 1s\n"
          ],
          "name": "stdout"
        }
      ]
    },
    {
      "cell_type": "code",
      "metadata": {
        "id": "S1baFIoc7TIi",
        "colab_type": "code",
        "colab": {
          "base_uri": "https://localhost:8080/",
          "height": 204
        },
        "outputId": "c09bc00b-9188-4105-afc9-e40ea8aa8337"
      },
      "source": [
        "predictions.head()"
      ],
      "execution_count": null,
      "outputs": [
        {
          "output_type": "execute_result",
          "data": {
            "text/html": [
              "<div>\n",
              "<style scoped>\n",
              "    .dataframe tbody tr th:only-of-type {\n",
              "        vertical-align: middle;\n",
              "    }\n",
              "\n",
              "    .dataframe tbody tr th {\n",
              "        vertical-align: top;\n",
              "    }\n",
              "\n",
              "    .dataframe thead th {\n",
              "        text-align: right;\n",
              "    }\n",
              "</style>\n",
              "<table border=\"1\" class=\"dataframe\">\n",
              "  <thead>\n",
              "    <tr style=\"text-align: right;\">\n",
              "      <th></th>\n",
              "      <th>USER</th>\n",
              "      <th>ITEM</th>\n",
              "      <th>RATING_PRED</th>\n",
              "    </tr>\n",
              "  </thead>\n",
              "  <tbody>\n",
              "    <tr>\n",
              "      <th>0</th>\n",
              "      <td>0</td>\n",
              "      <td>113</td>\n",
              "      <td>3.871983</td>\n",
              "    </tr>\n",
              "    <tr>\n",
              "      <th>1</th>\n",
              "      <td>0</td>\n",
              "      <td>224</td>\n",
              "      <td>2.365480</td>\n",
              "    </tr>\n",
              "    <tr>\n",
              "      <th>2</th>\n",
              "      <td>0</td>\n",
              "      <td>1</td>\n",
              "      <td>2.391253</td>\n",
              "    </tr>\n",
              "    <tr>\n",
              "      <th>3</th>\n",
              "      <td>0</td>\n",
              "      <td>335</td>\n",
              "      <td>3.850458</td>\n",
              "    </tr>\n",
              "    <tr>\n",
              "      <th>4</th>\n",
              "      <td>0</td>\n",
              "      <td>446</td>\n",
              "      <td>1.319417</td>\n",
              "    </tr>\n",
              "  </tbody>\n",
              "</table>\n",
              "</div>"
            ],
            "text/plain": [
              "   USER  ITEM  RATING_PRED\n",
              "0     0   113     3.871983\n",
              "1     0   224     2.365480\n",
              "2     0     1     2.391253\n",
              "3     0   335     3.850458\n",
              "4     0   446     1.319417"
            ]
          },
          "metadata": {
            "tags": []
          },
          "execution_count": 31
        }
      ]
    },
    {
      "cell_type": "code",
      "metadata": {
        "id": "gXOUQ___7Zsn",
        "colab_type": "code",
        "colab": {
          "base_uri": "https://localhost:8080/",
          "height": 51
        },
        "outputId": "6efce374-3e55-4d78-e4b9-a962e0641227"
      },
      "source": [
        "%%time\n",
        "# Recommendation for Top10K\n",
        "ranking_topk = recommend_topk(model, DATA, train, k=5)"
      ],
      "execution_count": null,
      "outputs": [
        {
          "output_type": "stream",
          "text": [
            "CPU times: user 9min, sys: 1min 10s, total: 10min 10s\n",
            "Wall time: 8min 8s\n"
          ],
          "name": "stdout"
        }
      ]
    },
    {
      "cell_type": "markdown",
      "metadata": {
        "id": "RVY-7MjvUT08",
        "colab_type": "text"
      },
      "source": [
        "### Get Similar Items"
      ]
    },
    {
      "cell_type": "code",
      "metadata": {
        "id": "5_SK3qkc7jsx",
        "colab_type": "code",
        "colab": {}
      },
      "source": [
        "from sklearn.neighbors import NearestNeighbors\n",
        "import matplotlib.pyplot as plt\n",
        "import matplotlib.image as mpimg\n",
        "import PIL\n",
        "\n",
        "\n",
        "def get_similar(embedding, k):\n",
        "    model_similar_items = NearestNeighbors(n_neighbors=k, algorithm=\"ball_tree\").fit(embedding)\n",
        "    distances, indices = model_similar_items.kneighbors(embedding)\n",
        "    \n",
        "    return distances, indices\n",
        "\n",
        "\n",
        "\n",
        "def show_similar(item_index, item_similar_indices, item_encoder):\n",
        "        \n",
        "    s = item_similar_indices[item_index]\n",
        "    movie_ids = item_encoder.inverse_transform(s)\n",
        "\n",
        "    images = []\n",
        "    for movie_id in movie_ids:\n",
        "        img_path = '/content/' + str(movie_id) + '.PNG'\n",
        "        images.append(mpimg.imread(img_path))\n",
        "\n",
        "    plt.figure(figsize=(20,10))\n",
        "    columns = 5\n",
        "    for i, image in enumerate(images):\n",
        "        plt.subplot(len(images) / columns + 1, columns, i + 1)\n",
        "        plt.axis('off')\n",
        "        plt.imshow(image)"
      ],
      "execution_count": null,
      "outputs": []
    },
    {
      "cell_type": "code",
      "metadata": {
        "id": "9xhM34Ix7qhZ",
        "colab_type": "code",
        "colab": {
          "base_uri": "https://localhost:8080/",
          "height": 51
        },
        "outputId": "935b13c2-def1-4425-ad7a-014b54ea6856"
      },
      "source": [
        "%%time\n",
        "item_distances, item_similar_indices = get_similar(item_embedding, 5)"
      ],
      "execution_count": null,
      "outputs": [
        {
          "output_type": "stream",
          "text": [
            "CPU times: user 5min 16s, sys: 0 ns, total: 5min 16s\n",
            "Wall time: 5min 16s\n"
          ],
          "name": "stdout"
        }
      ]
    },
    {
      "cell_type": "code",
      "metadata": {
        "id": "OzjFZQrf7w76",
        "colab_type": "code",
        "colab": {
          "base_uri": "https://localhost:8080/",
          "height": 136
        },
        "outputId": "c08cd641-ff02-4251-c476-5e13ad162d1a"
      },
      "source": [
        "item_similar_indices"
      ],
      "execution_count": null,
      "outputs": [
        {
          "output_type": "execute_result",
          "data": {
            "text/plain": [
              "array([[    0, 12462, 15285, 12478,  8874],\n",
              "       [    1, 12001, 10112,  4445, 12223],\n",
              "       [    2, 40022, 39986, 40036, 39988],\n",
              "       ...,\n",
              "       [46616, 23057, 46292, 23848, 31049],\n",
              "       [46617, 40316, 12912, 35604, 38006],\n",
              "       [46618, 30691, 31164, 14469, 39899]])"
            ]
          },
          "metadata": {
            "tags": []
          },
          "execution_count": 37
        }
      ]
    },
    {
      "cell_type": "code",
      "metadata": {
        "id": "CN2ZnrwVWKBf",
        "colab_type": "code",
        "colab": {
          "base_uri": "https://localhost:8080/",
          "height": 243
        },
        "outputId": "35f1ff3a-a567-4313-f321-af07b9370683"
      },
      "source": [
        "show_similar(0, item_similar_indices, item_encoder)"
      ],
      "execution_count": null,
      "outputs": [
        {
          "output_type": "display_data",
          "data": {
            "image/png": "[encoded data removed]",
            "text/plain": [
              "<Figure size 1440x720 with 5 Axes>"
            ]
          },
          "metadata": {
            "tags": [],
            "needs_background": "light"
          }
        }
      ]
    }
  ]
}