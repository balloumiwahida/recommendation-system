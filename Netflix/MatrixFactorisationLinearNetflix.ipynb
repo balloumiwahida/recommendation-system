{
  "nbformat": 4,
  "nbformat_minor": 0,
  "metadata": {
    "colab": {
      "name": "MFLinearNetflix.ipynb",
      "provenance": [],
      "collapsed_sections": [],
      "toc_visible": true
    },
    "kernelspec": {
      "name": "python3",
      "display_name": "Python 3"
    }
  },
  "cells": [
    {
      "cell_type": "markdown",
      "metadata": {
        "id": "awxNkHU1qIf1",
        "colab_type": "text"
      },
      "source": [
        "# Matrix Factorisation - Linear"
      ]
    },
    {
      "cell_type": "code",
      "metadata": {
        "id": "uL3_hK_ONuoF",
        "colab_type": "code",
        "colab": {}
      },
      "source": [
        "import numpy as np\n",
        "import pandas as pd\n",
        "import matplotlib.pyplot as plt\n",
        "import seaborn as sns\n",
        "%matplotlib inline"
      ],
      "execution_count": null,
      "outputs": []
    },
    {
      "cell_type": "markdown",
      "metadata": {
        "id": "Qjk0rh7cqan3",
        "colab_type": "text"
      },
      "source": [
        "### Prepare the data"
      ]
    },
    {
      "cell_type": "code",
      "metadata": {
        "id": "FFliofS4N_kD",
        "colab_type": "code",
        "colab": {
          "base_uri": "https://localhost:8080/",
          "height": 419
        },
        "outputId": "415b7392-5699-4e54-c2bb-4b0ecc567b73"
      },
      "source": [
        "# Skip date\n",
        "df = pd.read_csv('/content/combined_data_4.txt', header = None, names = ['Cust_Id', 'Rating'], usecols = [0,1])\n",
        "\n",
        "df['Rating'] = df['Rating'].astype(float)\n",
        "df"
      ],
      "execution_count": null,
      "outputs": [
        {
          "output_type": "execute_result",
          "data": {
            "text/html": [
              "<div>\n",
              "<style scoped>\n",
              "    .dataframe tbody tr th:only-of-type {\n",
              "        vertical-align: middle;\n",
              "    }\n",
              "\n",
              "    .dataframe tbody tr th {\n",
              "        vertical-align: top;\n",
              "    }\n",
              "\n",
              "    .dataframe thead th {\n",
              "        text-align: right;\n",
              "    }\n",
              "</style>\n",
              "<table border=\"1\" class=\"dataframe\">\n",
              "  <thead>\n",
              "    <tr style=\"text-align: right;\">\n",
              "      <th></th>\n",
              "      <th>Cust_Id</th>\n",
              "      <th>Rating</th>\n",
              "    </tr>\n",
              "  </thead>\n",
              "  <tbody>\n",
              "    <tr>\n",
              "      <th>0</th>\n",
              "      <td>13368:</td>\n",
              "      <td>NaN</td>\n",
              "    </tr>\n",
              "    <tr>\n",
              "      <th>1</th>\n",
              "      <td>2385003</td>\n",
              "      <td>4.0</td>\n",
              "    </tr>\n",
              "    <tr>\n",
              "      <th>2</th>\n",
              "      <td>659432</td>\n",
              "      <td>3.0</td>\n",
              "    </tr>\n",
              "    <tr>\n",
              "      <th>3</th>\n",
              "      <td>751812</td>\n",
              "      <td>2.0</td>\n",
              "    </tr>\n",
              "    <tr>\n",
              "      <th>4</th>\n",
              "      <td>2625420</td>\n",
              "      <td>2.0</td>\n",
              "    </tr>\n",
              "    <tr>\n",
              "      <th>...</th>\n",
              "      <td>...</td>\n",
              "      <td>...</td>\n",
              "    </tr>\n",
              "    <tr>\n",
              "      <th>1426831</th>\n",
              "      <td>1985633</td>\n",
              "      <td>3.0</td>\n",
              "    </tr>\n",
              "    <tr>\n",
              "      <th>1426832</th>\n",
              "      <td>1258602</td>\n",
              "      <td>4.0</td>\n",
              "    </tr>\n",
              "    <tr>\n",
              "      <th>1426833</th>\n",
              "      <td>20918</td>\n",
              "      <td>4.0</td>\n",
              "    </tr>\n",
              "    <tr>\n",
              "      <th>1426834</th>\n",
              "      <td>1005290</td>\n",
              "      <td>5.0</td>\n",
              "    </tr>\n",
              "    <tr>\n",
              "      <th>1426835</th>\n",
              "      <td>242768</td>\n",
              "      <td>NaN</td>\n",
              "    </tr>\n",
              "  </tbody>\n",
              "</table>\n",
              "<p>1426836 rows × 2 columns</p>\n",
              "</div>"
            ],
            "text/plain": [
              "         Cust_Id  Rating\n",
              "0         13368:     NaN\n",
              "1        2385003     4.0\n",
              "2         659432     3.0\n",
              "3         751812     2.0\n",
              "4        2625420     2.0\n",
              "...          ...     ...\n",
              "1426831  1985633     3.0\n",
              "1426832  1258602     4.0\n",
              "1426833    20918     4.0\n",
              "1426834  1005290     5.0\n",
              "1426835   242768     NaN\n",
              "\n",
              "[1426836 rows x 2 columns]"
            ]
          },
          "metadata": {
            "tags": []
          },
          "execution_count": 42
        }
      ]
    },
    {
      "cell_type": "code",
      "metadata": {
        "id": "nrDkxu1uOREp",
        "colab_type": "code",
        "colab": {
          "base_uri": "https://localhost:8080/",
          "height": 51
        },
        "outputId": "aba4e835-614c-47f2-8402-17639b627857"
      },
      "source": [
        "df_nan = pd.DataFrame(pd.isnull(df.Rating))\n",
        "df_nan = df_nan[df_nan['Rating'] == True]\n",
        "df_nan = df_nan.reset_index()\n",
        "\n",
        "movie_np = []\n",
        "movie_id = 1\n",
        "\n",
        "for i,j in zip(df_nan['index'][1:],df_nan['index'][:-1]):\n",
        "    # numpy approach\n",
        "    temp = np.full((1,i-j-1), movie_id)\n",
        "    movie_np = np.append(movie_np, temp)\n",
        "    movie_id += 1\n",
        "\n",
        "# Account for last record and corresponding length\n",
        "# numpy approach\n",
        "last_record = np.full((1,len(df) - df_nan.iloc[-1, 0] - 1),movie_id)\n",
        "movie_np = np.append(movie_np, last_record)\n",
        "\n",
        "print('Movie numpy: {}'.format(movie_np))\n",
        "print('Length: {}'.format(len(movie_np)))"
      ],
      "execution_count": null,
      "outputs": [
        {
          "output_type": "stream",
          "text": [
            "Movie numpy: [  1.   1.   1. ... 226. 226. 226.]\n",
            "Length: 1426609\n"
          ],
          "name": "stdout"
        }
      ]
    },
    {
      "cell_type": "code",
      "metadata": {
        "id": "L_DCkaVrOb4E",
        "colab_type": "code",
        "colab": {
          "base_uri": "https://localhost:8080/",
          "height": 436
        },
        "outputId": "611dfe56-ca86-4584-b028-de16e4d52967"
      },
      "source": [
        "df = df[pd.notnull(df['Rating'])]\n",
        "\n",
        "df['Movie_Id'] = movie_np.astype(int)\n",
        "df['Cust_Id'] = df['Cust_Id'].astype(int)\n",
        "print('-Dataset examples-')\n",
        "df"
      ],
      "execution_count": null,
      "outputs": [
        {
          "output_type": "stream",
          "text": [
            "-Dataset examples-\n"
          ],
          "name": "stdout"
        },
        {
          "output_type": "execute_result",
          "data": {
            "text/html": [
              "<div>\n",
              "<style scoped>\n",
              "    .dataframe tbody tr th:only-of-type {\n",
              "        vertical-align: middle;\n",
              "    }\n",
              "\n",
              "    .dataframe tbody tr th {\n",
              "        vertical-align: top;\n",
              "    }\n",
              "\n",
              "    .dataframe thead th {\n",
              "        text-align: right;\n",
              "    }\n",
              "</style>\n",
              "<table border=\"1\" class=\"dataframe\">\n",
              "  <thead>\n",
              "    <tr style=\"text-align: right;\">\n",
              "      <th></th>\n",
              "      <th>Cust_Id</th>\n",
              "      <th>Rating</th>\n",
              "      <th>Movie_Id</th>\n",
              "    </tr>\n",
              "  </thead>\n",
              "  <tbody>\n",
              "    <tr>\n",
              "      <th>1</th>\n",
              "      <td>2385003</td>\n",
              "      <td>4.0</td>\n",
              "      <td>1</td>\n",
              "    </tr>\n",
              "    <tr>\n",
              "      <th>2</th>\n",
              "      <td>659432</td>\n",
              "      <td>3.0</td>\n",
              "      <td>1</td>\n",
              "    </tr>\n",
              "    <tr>\n",
              "      <th>3</th>\n",
              "      <td>751812</td>\n",
              "      <td>2.0</td>\n",
              "      <td>1</td>\n",
              "    </tr>\n",
              "    <tr>\n",
              "      <th>4</th>\n",
              "      <td>2625420</td>\n",
              "      <td>2.0</td>\n",
              "      <td>1</td>\n",
              "    </tr>\n",
              "    <tr>\n",
              "      <th>5</th>\n",
              "      <td>1650301</td>\n",
              "      <td>1.0</td>\n",
              "      <td>1</td>\n",
              "    </tr>\n",
              "    <tr>\n",
              "      <th>...</th>\n",
              "      <td>...</td>\n",
              "      <td>...</td>\n",
              "      <td>...</td>\n",
              "    </tr>\n",
              "    <tr>\n",
              "      <th>1426830</th>\n",
              "      <td>1726600</td>\n",
              "      <td>3.0</td>\n",
              "      <td>226</td>\n",
              "    </tr>\n",
              "    <tr>\n",
              "      <th>1426831</th>\n",
              "      <td>1985633</td>\n",
              "      <td>3.0</td>\n",
              "      <td>226</td>\n",
              "    </tr>\n",
              "    <tr>\n",
              "      <th>1426832</th>\n",
              "      <td>1258602</td>\n",
              "      <td>4.0</td>\n",
              "      <td>226</td>\n",
              "    </tr>\n",
              "    <tr>\n",
              "      <th>1426833</th>\n",
              "      <td>20918</td>\n",
              "      <td>4.0</td>\n",
              "      <td>226</td>\n",
              "    </tr>\n",
              "    <tr>\n",
              "      <th>1426834</th>\n",
              "      <td>1005290</td>\n",
              "      <td>5.0</td>\n",
              "      <td>226</td>\n",
              "    </tr>\n",
              "  </tbody>\n",
              "</table>\n",
              "<p>1426609 rows × 3 columns</p>\n",
              "</div>"
            ],
            "text/plain": [
              "         Cust_Id  Rating  Movie_Id\n",
              "1        2385003     4.0         1\n",
              "2         659432     3.0         1\n",
              "3         751812     2.0         1\n",
              "4        2625420     2.0         1\n",
              "5        1650301     1.0         1\n",
              "...          ...     ...       ...\n",
              "1426830  1726600     3.0       226\n",
              "1426831  1985633     3.0       226\n",
              "1426832  1258602     4.0       226\n",
              "1426833    20918     4.0       226\n",
              "1426834  1005290     5.0       226\n",
              "\n",
              "[1426609 rows x 3 columns]"
            ]
          },
          "metadata": {
            "tags": []
          },
          "execution_count": 44
        }
      ]
    },
    {
      "cell_type": "code",
      "metadata": {
        "id": "_cU_wzvjOuOJ",
        "colab_type": "code",
        "colab": {
          "base_uri": "https://localhost:8080/",
          "height": 122
        },
        "outputId": "c6023bb3-c622-4717-8318-352d712d7f60"
      },
      "source": [
        "pip install sklearn"
      ],
      "execution_count": null,
      "outputs": [
        {
          "output_type": "stream",
          "text": [
            "Requirement already satisfied: sklearn in /usr/local/lib/python3.6/dist-packages (0.0)\n",
            "Requirement already satisfied: scikit-learn in /usr/local/lib/python3.6/dist-packages (from sklearn) (0.22.2.post1)\n",
            "Requirement already satisfied: joblib>=0.11 in /usr/local/lib/python3.6/dist-packages (from scikit-learn->sklearn) (0.16.0)\n",
            "Requirement already satisfied: scipy>=0.17.0 in /usr/local/lib/python3.6/dist-packages (from scikit-learn->sklearn) (1.4.1)\n",
            "Requirement already satisfied: numpy>=1.11.0 in /usr/local/lib/python3.6/dist-packages (from scikit-learn->sklearn) (1.18.5)\n"
          ],
          "name": "stdout"
        }
      ]
    },
    {
      "cell_type": "code",
      "metadata": {
        "id": "KPZT2YLAOv62",
        "colab_type": "code",
        "colab": {}
      },
      "source": [
        "from sklearn.preprocessing import LabelEncoder"
      ],
      "execution_count": null,
      "outputs": []
    },
    {
      "cell_type": "code",
      "metadata": {
        "id": "6rY6wOzNO8Ud",
        "colab_type": "code",
        "colab": {}
      },
      "source": [
        "def encode_user_item(df, user_col, item_col, rating_col):\n",
        "    \"\"\"Function to encode users and items\n",
        "    \n",
        "    Params:     \n",
        "        df (pd.DataFrame): Pandas data frame to be used.\n",
        "        user_col (string): Name of the user column.\n",
        "        item_col (string): Name of the item column.\n",
        "        rating_col (string): Name of the rating column.\n",
        "        timestamp_col (string): Name of the timestamp column.\n",
        "    \n",
        "    Returns: \n",
        "        encoded_df (pd.DataFrame): Modifed dataframe with the users and items index\n",
        "    \"\"\"\n",
        "    \n",
        "    encoded_df = df.copy()\n",
        "    \n",
        "    user_encoder = LabelEncoder()\n",
        "    user_encoder.fit(encoded_df[user_col].values)\n",
        "    n_users = len(user_encoder.classes_)\n",
        "    \n",
        "    item_encoder = LabelEncoder()\n",
        "    item_encoder.fit(encoded_df[item_col].values)\n",
        "    n_items = len(item_encoder.classes_)\n",
        "\n",
        "    encoded_df[\"USER\"] = user_encoder.transform(encoded_df[user_col])\n",
        "    encoded_df[\"ITEM\"] = item_encoder.transform(encoded_df[item_col])\n",
        "    \n",
        "    encoded_df.rename({rating_col: \"RATING\"}, axis=1, inplace=True)\n",
        "    \n",
        "    print(\"Number of users: \", n_users)\n",
        "    print(\"Number of items: \", n_items)\n",
        "    \n",
        "    return encoded_df, user_encoder, item_encoder"
      ],
      "execution_count": null,
      "outputs": []
    },
    {
      "cell_type": "code",
      "metadata": {
        "id": "DA11pdC5PCqp",
        "colab_type": "code",
        "colab": {
          "base_uri": "https://localhost:8080/",
          "height": 51
        },
        "outputId": "e8ee1713-069d-4f7b-d868-912e0609cee9"
      },
      "source": [
        " #Data Encoding\n",
        "DATA, user_encoder, item_encoder = encode_user_item(df, \"Cust_Id\", \"Movie_Id\", \"Rating\")"
      ],
      "execution_count": null,
      "outputs": [
        {
          "output_type": "stream",
          "text": [
            "Number of users:  321061\n",
            "Number of items:  226\n"
          ],
          "name": "stdout"
        }
      ]
    },
    {
      "cell_type": "code",
      "metadata": {
        "id": "qRN5piqsPIwf",
        "colab_type": "code",
        "colab": {
          "base_uri": "https://localhost:8080/",
          "height": 34
        },
        "outputId": "c7291c17-5a45-4e4d-e8b2-c62effb0ea42"
      },
      "source": [
        "n_users = DATA.USER.nunique()\n",
        "n_items = DATA.ITEM.nunique()\n",
        "n_users, n_items"
      ],
      "execution_count": null,
      "outputs": [
        {
          "output_type": "execute_result",
          "data": {
            "text/plain": [
              "(321061, 226)"
            ]
          },
          "metadata": {
            "tags": []
          },
          "execution_count": 47
        }
      ]
    },
    {
      "cell_type": "code",
      "metadata": {
        "id": "ughbeo_NPZF-",
        "colab_type": "code",
        "colab": {
          "base_uri": "https://localhost:8080/",
          "height": 34
        },
        "outputId": "b0f8e89d-bd6f-48a8-d893-4bcb343def2a"
      },
      "source": [
        "max_rating = DATA.RATING.max()\n",
        "min_rating = DATA.RATING.min()\n",
        "min_rating, max_rating"
      ],
      "execution_count": null,
      "outputs": [
        {
          "output_type": "execute_result",
          "data": {
            "text/plain": [
              "(1.0, 5.0)"
            ]
          },
          "metadata": {
            "tags": []
          },
          "execution_count": 48
        }
      ]
    },
    {
      "cell_type": "code",
      "metadata": {
        "id": "G9BgRCfzPfpT",
        "colab_type": "code",
        "colab": {}
      },
      "source": [
        "def random_split (df, ratios, shuffle=False):\n",
        "    \n",
        "    \"\"\"Function to split pandas DataFrame into train, validation and test\n",
        "    \n",
        "    Params:     \n",
        "        df (pd.DataFrame): Pandas data frame to be split.\n",
        "        ratios (list of floats): list of ratios for split. The ratios have to sum to 1.\n",
        "    \n",
        "    Returns: \n",
        "        list: List of pd.DataFrame split by the given specifications.\n",
        "    \"\"\"\n",
        "    seed = 42                  # Set random seed\n",
        "    if shuffle == True:\n",
        "        df = df.sample(frac=1)     # Shuffle the data\n",
        "    samples = df.shape[0]      # Number of samples\n",
        "    \n",
        "    # Converts [0.7, 0.2, 0.1] to [0.7, 0.9]\n",
        "    split_ratio = np.cumsum(ratios).tolist()[:-1] # Get split index\n",
        "    \n",
        "    # Get the rounded integer split index\n",
        "    split_index = [round(x * samples) for x in split_ratio]\n",
        "    \n",
        "    # split the data\n",
        "    splits = np.split(df, split_index)\n",
        "    \n",
        "    # Add split index (this makes splitting by group more efficient).\n",
        "    for i in range(len(ratios)):\n",
        "        splits[i][\"split_index\"] = i\n",
        "\n",
        "    return splits"
      ],
      "execution_count": null,
      "outputs": []
    },
    {
      "cell_type": "code",
      "metadata": {
        "id": "lxJvuNEIPqpC",
        "colab_type": "code",
        "colab": {}
      },
      "source": [
        "# Data Splitting\n",
        "train, test = random_split(DATA, [0.8, 0.2])"
      ],
      "execution_count": null,
      "outputs": []
    },
    {
      "cell_type": "code",
      "metadata": {
        "id": "bLK8ZrGiPwPC",
        "colab_type": "code",
        "colab": {
          "base_uri": "https://localhost:8080/",
          "height": 34
        },
        "outputId": "9216971a-8e0f-4869-91a8-20a1db7644a0"
      },
      "source": [
        "train.shape, test.shape"
      ],
      "execution_count": null,
      "outputs": [
        {
          "output_type": "execute_result",
          "data": {
            "text/plain": [
              "((1141287, 6), (285322, 6))"
            ]
          },
          "metadata": {
            "tags": []
          },
          "execution_count": 51
        }
      ]
    },
    {
      "cell_type": "markdown",
      "metadata": {
        "id": "fa-mMU4pquCM",
        "colab_type": "text"
      },
      "source": [
        "## Explicit Matrix Factorisation \n",
        "\n",
        "This is a model with User and Item Embedding Dot Product"
      ]
    },
    {
      "cell_type": "code",
      "metadata": {
        "id": "aD0Oag4QQ6jk",
        "colab_type": "code",
        "colab": {}
      },
      "source": [
        "from keras.models import Model\n",
        "from keras.layers import Input, Embedding, Flatten, Dot, Add, Lambda, Activation, Reshape\n",
        "from keras.regularizers import l2\n",
        "from keras.constraints import non_neg\n",
        "from keras.utils import plot_model\n",
        "from keras.utils.vis_utils import model_to_dot"
      ],
      "execution_count": null,
      "outputs": []
    },
    {
      "cell_type": "markdown",
      "metadata": {
        "id": "k0t_oH6Lq3UZ",
        "colab_type": "text"
      },
      "source": [
        "### Build the Model"
      ]
    },
    {
      "cell_type": "code",
      "metadata": {
        "id": "gWRjvPcfRCtC",
        "colab_type": "code",
        "colab": {}
      },
      "source": [
        "def ExplicitMF (n_users, n_items, n_factors):\n",
        "    \n",
        "    # Item Layer\n",
        "    item_input = Input(shape=[1], name='Item')\n",
        "    item_embedding = Embedding(n_items, n_factors, \n",
        "                               embeddings_regularizer=l2(1e-6), \n",
        "                               name='ItemEmbedding')(item_input)\n",
        "    item_vec = Flatten(name='FlattenItemsE')(item_embedding)\n",
        "\n",
        "    # User Layer\n",
        "    user_input = Input(shape=[1], name='User')\n",
        "    user_embedding = Embedding(n_users, n_factors, \n",
        "                               embeddings_regularizer=l2(1e-6), \n",
        "                               name='UserEmbedding')(user_input)\n",
        "    user_vec = Flatten(name='FlattenUsersE')(user_embedding)\n",
        "\n",
        "    # Dot Product of Item and User\n",
        "    rating = Dot(axes=1, name='DotProduct')([item_vec, user_vec])\n",
        "    \n",
        "    # Model Creation\n",
        "    model = Model([user_input, item_input], rating)\n",
        "    \n",
        "    # Compile Model\n",
        "    model.compile(loss='mean_squared_error', optimizer='Adam')\n",
        "    \n",
        "    return model"
      ],
      "execution_count": null,
      "outputs": []
    },
    {
      "cell_type": "code",
      "metadata": {
        "id": "KB2moW4wRJNS",
        "colab_type": "code",
        "colab": {}
      },
      "source": [
        "n_factors = 40\n",
        "model = ExplicitMF(n_users, n_items, n_factors)"
      ],
      "execution_count": null,
      "outputs": []
    },
    {
      "cell_type": "code",
      "metadata": {
        "id": "RK62HY6HRN6-",
        "colab_type": "code",
        "colab": {
          "base_uri": "https://localhost:8080/",
          "height": 408
        },
        "outputId": "1f84afc2-c065-42f5-bfd7-3c4938ef4257"
      },
      "source": [
        "model.summary()"
      ],
      "execution_count": null,
      "outputs": [
        {
          "output_type": "stream",
          "text": [
            "Model: \"functional_3\"\n",
            "__________________________________________________________________________________________________\n",
            "Layer (type)                    Output Shape         Param #     Connected to                     \n",
            "==================================================================================================\n",
            "Item (InputLayer)               [(None, 1)]          0                                            \n",
            "__________________________________________________________________________________________________\n",
            "User (InputLayer)               [(None, 1)]          0                                            \n",
            "__________________________________________________________________________________________________\n",
            "ItemEmbedding (Embedding)       (None, 1, 40)        9040        Item[0][0]                       \n",
            "__________________________________________________________________________________________________\n",
            "UserEmbedding (Embedding)       (None, 1, 40)        12842440    User[0][0]                       \n",
            "__________________________________________________________________________________________________\n",
            "FlattenItemsE (Flatten)         (None, 40)           0           ItemEmbedding[0][0]              \n",
            "__________________________________________________________________________________________________\n",
            "FlattenUsersE (Flatten)         (None, 40)           0           UserEmbedding[0][0]              \n",
            "__________________________________________________________________________________________________\n",
            "DotProduct (Dot)                (None, 1)            0           FlattenItemsE[0][0]              \n",
            "                                                                 FlattenUsersE[0][0]              \n",
            "==================================================================================================\n",
            "Total params: 12,851,480\n",
            "Trainable params: 12,851,480\n",
            "Non-trainable params: 0\n",
            "__________________________________________________________________________________________________\n"
          ],
          "name": "stdout"
        }
      ]
    },
    {
      "cell_type": "markdown",
      "metadata": {
        "id": "J2Js36GMrHRY",
        "colab_type": "text"
      },
      "source": [
        "### Train the Model"
      ]
    },
    {
      "cell_type": "code",
      "metadata": {
        "id": "OSeHX2LZRSHr",
        "colab_type": "code",
        "colab": {
          "base_uri": "https://localhost:8080/",
          "height": 153
        },
        "outputId": "30129836-e4bb-43f8-f909-a1583f051dca"
      },
      "source": [
        "%%time\n",
        "output = model.fit([train.USER, train.ITEM], train.RATING, batch_size=128,\n",
        "                                   epochs=3, verbose=1, \n",
        "                   validation_data=([test.USER, test.ITEM], test.RATING))"
      ],
      "execution_count": null,
      "outputs": [
        {
          "output_type": "stream",
          "text": [
            "Epoch 1/3\n",
            "8917/8917 [==============================] - 1093s 123ms/step - loss: 6.4425 - val_loss: 13.2582\n",
            "Epoch 2/3\n",
            "8917/8917 [==============================] - 1084s 122ms/step - loss: 2.3157 - val_loss: 13.2606\n",
            "Epoch 3/3\n",
            "8917/8917 [==============================] - 1077s 121ms/step - loss: 1.9864 - val_loss: 13.2615\n",
            "CPU times: user 1h 29min 29s, sys: 2min 15s, total: 1h 31min 44s\n",
            "Wall time: 54min 14s\n"
          ],
          "name": "stdout"
        }
      ]
    },
    {
      "cell_type": "code",
      "metadata": {
        "id": "EdFuHJ35kAJG",
        "colab_type": "code",
        "colab": {}
      },
      "source": [
        "import altair as alt\n",
        "import matplotlib.pyplot as plt\n",
        "from mpl_toolkits.mplot3d import Axes3D\n",
        "\n",
        "from keras.preprocessing.image import ImageDataGenerator\n",
        "        \n",
        "# Visualise the metrics from the model\n",
        "def metrics(history):\n",
        "    df = pd.DataFrame(history)\n",
        "    df.reset_index()\n",
        "    df[\"batch\"] = df.index + 1\n",
        "    df = df.melt(\"batch\", var_name=\"name\")\n",
        "    df[\"val\"] = df.name.str.startswith(\"val\")\n",
        "    df[\"type\"] = df[\"val\"]\n",
        "    df[\"metrics\"] = df[\"val\"]\n",
        "    df.loc[df.val == False, \"type\"] = \"training\"\n",
        "    df.loc[df.val == True, \"type\"] = \"validation\"\n",
        "    df.loc[df.val == False, \"metrics\"] = df.name\n",
        "    df.loc[df.val == True, \"metrics\"] = df.name.str.split(\"val_\", expand=True)[1]\n",
        "    df = df.drop([\"name\", \"val\"], axis=1)\n",
        "    \n",
        "    base = alt.Chart().encode(\n",
        "        x = \"batch:Q\",\n",
        "        y = \"value:Q\",\n",
        "        color = \"type\"\n",
        "    ).properties(width = 300, height = 300)\n",
        "\n",
        "    layers = base.mark_circle(size = 50).encode(tooltip = [\"batch\", \"value\"]) + base.mark_line()\n",
        "    chart = layers.facet(column='metrics:N', data=df).resolve_scale(y='independent')    \n",
        "    \n",
        "    return chart"
      ],
      "execution_count": null,
      "outputs": []
    },
    {
      "cell_type": "code",
      "metadata": {
        "id": "riMEunPnkBxQ",
        "colab_type": "code",
        "colab": {
          "base_uri": "https://localhost:8080/",
          "height": 426
        },
        "outputId": "b70445f9-d8ff-4b2c-eb01-2aa583e7cf61"
      },
      "source": [
        "metrics(output.history)"
      ],
      "execution_count": null,
      "outputs": [
        {
          "output_type": "execute_result",
          "data": {
            "text/plain": [
              "alt.FacetChart(...)"
            ],
            "text/html": [
              "\n",
              "<div id=\"altair-viz-1a1cb80628e74f88bb688cb5ec633b35\"></div>\n",
              "<script type=\"text/javascript\">\n",
              "  (function(spec, embedOpt){\n",
              "    let outputDiv = document.currentScript.previousElementSibling;\n",
              "    if (outputDiv.id !== \"altair-viz-1a1cb80628e74f88bb688cb5ec633b35\") {\n",
              "      outputDiv = document.getElementById(\"altair-viz-1a1cb80628e74f88bb688cb5ec633b35\");\n",
              "    }\n",
              "    const paths = {\n",
              "      \"vega\": \"https://cdn.jsdelivr.net/npm//vega@5?noext\",\n",
              "      \"vega-lib\": \"https://cdn.jsdelivr.net/npm//vega-lib?noext\",\n",
              "      \"vega-lite\": \"https://cdn.jsdelivr.net/npm//vega-lite@4.8.1?noext\",\n",
              "      \"vega-embed\": \"https://cdn.jsdelivr.net/npm//vega-embed@6?noext\",\n",
              "    };\n",
              "\n",
              "    function loadScript(lib) {\n",
              "      return new Promise(function(resolve, reject) {\n",
              "        var s = document.createElement('script');\n",
              "        s.src = paths[lib];\n",
              "        s.async = true;\n",
              "        s.onload = () => resolve(paths[lib]);\n",
              "        s.onerror = () => reject(`Error loading script: ${paths[lib]}`);\n",
              "        document.getElementsByTagName(\"head\")[0].appendChild(s);\n",
              "      });\n",
              "    }\n",
              "\n",
              "    function showError(err) {\n",
              "      outputDiv.innerHTML = `<div class=\"error\" style=\"color:red;\">${err}</div>`;\n",
              "      throw err;\n",
              "    }\n",
              "\n",
              "    function displayChart(vegaEmbed) {\n",
              "      vegaEmbed(outputDiv, spec, embedOpt)\n",
              "        .catch(err => showError(`Javascript Error: ${err.message}<br>This usually means there's a typo in your chart specification. See the javascript console for the full traceback.`));\n",
              "    }\n",
              "\n",
              "    if(typeof define === \"function\" && define.amd) {\n",
              "      requirejs.config({paths});\n",
              "      require([\"vega-embed\"], displayChart, err => showError(`Error loading script: ${err.message}`));\n",
              "    } else if (typeof vegaEmbed === \"function\") {\n",
              "      displayChart(vegaEmbed);\n",
              "    } else {\n",
              "      loadScript(\"vega\")\n",
              "        .then(() => loadScript(\"vega-lite\"))\n",
              "        .then(() => loadScript(\"vega-embed\"))\n",
              "        .catch(showError)\n",
              "        .then(() => displayChart(vegaEmbed));\n",
              "    }\n",
              "  })({\"config\": {\"view\": {\"continuousWidth\": 400, \"continuousHeight\": 300}}, \"data\": {\"name\": \"data-638a082a2704b31123f4343efe2c7b42\"}, \"facet\": {\"column\": {\"type\": \"nominal\", \"field\": \"metrics\"}}, \"spec\": {\"layer\": [{\"mark\": {\"type\": \"circle\", \"size\": 50}, \"encoding\": {\"color\": {\"type\": \"nominal\", \"field\": \"type\"}, \"tooltip\": [{\"type\": \"quantitative\", \"field\": \"batch\"}, {\"type\": \"quantitative\", \"field\": \"value\"}], \"x\": {\"type\": \"quantitative\", \"field\": \"batch\"}, \"y\": {\"type\": \"quantitative\", \"field\": \"value\"}}, \"height\": 300, \"width\": 300}, {\"mark\": \"line\", \"encoding\": {\"color\": {\"type\": \"nominal\", \"field\": \"type\"}, \"x\": {\"type\": \"quantitative\", \"field\": \"batch\"}, \"y\": {\"type\": \"quantitative\", \"field\": \"value\"}}, \"height\": 300, \"width\": 300}]}, \"resolve\": {\"scale\": {\"y\": \"independent\"}}, \"$schema\": \"https://vega.github.io/schema/vega-lite/v4.8.1.json\", \"datasets\": {\"data-638a082a2704b31123f4343efe2c7b42\": [{\"batch\": 1, \"value\": 6.442521095275879, \"type\": \"training\", \"metrics\": \"loss\"}, {\"batch\": 2, \"value\": 2.3156538009643555, \"type\": \"training\", \"metrics\": \"loss\"}, {\"batch\": 3, \"value\": 1.9864170551300049, \"type\": \"training\", \"metrics\": \"loss\"}, {\"batch\": 1, \"value\": 13.258222579956055, \"type\": \"validation\", \"metrics\": \"loss\"}, {\"batch\": 2, \"value\": 13.260649681091309, \"type\": \"validation\", \"metrics\": \"loss\"}, {\"batch\": 3, \"value\": 13.26150894165039, \"type\": \"validation\", \"metrics\": \"loss\"}]}}, {\"mode\": \"vega-lite\"});\n",
              "</script>"
            ]
          },
          "metadata": {
            "tags": []
          },
          "execution_count": 59
        }
      ]
    },
    {
      "cell_type": "markdown",
      "metadata": {
        "id": "odO5oxWrrVZ7",
        "colab_type": "text"
      },
      "source": [
        "### Score the Model"
      ]
    },
    {
      "cell_type": "code",
      "metadata": {
        "id": "4xMLDQsdkHLH",
        "colab_type": "code",
        "colab": {
          "base_uri": "https://localhost:8080/",
          "height": 51
        },
        "outputId": "4983afc5-8051-4d3a-d6dd-54f4821e6be4"
      },
      "source": [
        "score = model.evaluate([test.USER, test.ITEM], test.RATING,batch_size=128,verbose=1)\n",
        "score"
      ],
      "execution_count": null,
      "outputs": [
        {
          "output_type": "stream",
          "text": [
            "2230/2230 [==============================] - 54s 24ms/step - loss: 13.2615\n"
          ],
          "name": "stdout"
        },
        {
          "output_type": "execute_result",
          "data": {
            "text/plain": [
              "13.26150894165039"
            ]
          },
          "metadata": {
            "tags": []
          },
          "execution_count": 60
        }
      ]
    },
    {
      "cell_type": "code",
      "metadata": {
        "id": "2M_jiW2ukMJq",
        "colab_type": "code",
        "colab": {
          "base_uri": "https://localhost:8080/",
          "height": 51
        },
        "outputId": "bce21a25-e417-4add-8bb2-b1d2cba237f9"
      },
      "source": [
        "from sklearn.metrics import mean_absolute_error\n",
        "from sklearn.metrics import mean_squared_error\n",
        "print(mean_absolute_error(test.RATING, model.predict([test.USER, test.ITEM])))\n",
        "print(mean_squared_error(test.RATING, model.predict([test.USER, test.ITEM])))"
      ],
      "execution_count": null,
      "outputs": [
        {
          "output_type": "stream",
          "text": [
            "3.405814070756416\n",
            "13.195660914896388\n"
          ],
          "name": "stdout"
        }
      ]
    },
    {
      "cell_type": "markdown",
      "metadata": {
        "id": "n671fGlLrkn6",
        "colab_type": "text"
      },
      "source": [
        "### Prediction & recommendation"
      ]
    },
    {
      "cell_type": "code",
      "metadata": {
        "id": "DBC-Y2spou5x",
        "colab_type": "code",
        "colab": {}
      },
      "source": [
        "def get_embedding(model, name):\n",
        "    embedding = model.get_layer(name = name).get_weights()[0]\n",
        "    return embedding\n",
        "\n",
        "def get_predictions(model, data):\n",
        "    \"\"\"\n",
        "    Get predictions for all user-item combinations\n",
        "    \n",
        "    Params:\n",
        "        data (pandas.DataFrame): DataFrame of entire rating data\n",
        "        model (Keras.model): Trained keras model\n",
        "        \n",
        "    Returns:\n",
        "        pd.DataFrame: DataFrame of rating predictions for each user and each item\n",
        "        \n",
        "    \"\"\"\n",
        "    # Create the crossjoin for user-item\n",
        "    user_item = user_item_crossjoin(data)\n",
        "    \n",
        "    # Score for every user-item combination\n",
        "    user_item[\"RATING_PRED\"] = model.predict([user_item.USER, user_item.ITEM])\n",
        "    \n",
        "    return user_item\n",
        "\n",
        "\n",
        "def user_item_crossjoin(df):\n",
        "    \"\"\"\n",
        "    Get cross-join of all users and items\n",
        "    \n",
        "    Args:\n",
        "        df (pd.DataFrame): Source dataframe.\n",
        "\n",
        "    Returns:\n",
        "        pd.DataFrame: Dataframe with crossjoins\n",
        "    \n",
        "    \"\"\"\n",
        "    \n",
        "    crossjoin_list = []\n",
        "    for user in df.USER.unique():\n",
        "        for item in df.ITEM.unique():\n",
        "            crossjoin_list.append([user, item])\n",
        "\n",
        "    cross_join_df = pd.DataFrame(data=crossjoin_list, columns=[\"USER\", \"ITEM\"])\n",
        "    \n",
        "    return cross_join_df\n",
        "    \n",
        "\n",
        "def filter_by(df, filter_by_df, filter_by_cols):\n",
        "    \"\"\"From the input DataFrame (df), remove the records whose target column (filter_by_cols) values are\n",
        "    exist in the filter-by DataFrame (filter_by_df)\n",
        "\n",
        "    Args:\n",
        "        df (pd.DataFrame): Source dataframe.\n",
        "        filter_by_df (pd.DataFrame): Filter dataframe.\n",
        "        filter_by_cols (iterable of str): Filter columns.\n",
        "\n",
        "    Returns:\n",
        "        pd.DataFrame: Dataframe filtered by filter_by_df on filter_by_cols\n",
        "    \"\"\"\n",
        "\n",
        "    return df.loc[\n",
        "        ~df.set_index(filter_by_cols).index.isin(\n",
        "            filter_by_df.set_index(filter_by_cols).index\n",
        "        )\n",
        "    ]\n",
        "\n",
        "\n",
        "def get_top_k_items(df, col_user, col_rating, k=10):\n",
        "    \"\"\"Get the top k items for each user.\n",
        "\n",
        "    Params:\n",
        "        dataframe (pandas.DataFrame): DataFrame of rating data\n",
        "        col_user (str): column name for user\n",
        "        col_rating (str): column name for rating\n",
        "        k (int): number of items for each user\n",
        "\n",
        "    Returns:\n",
        "        pd.DataFrame: DataFrame of top k items for each user, sorted by `col_user` and `rank`\n",
        "    \"\"\"\n",
        "    # Sort dataframe by col_user and (top k) col_rating\n",
        "    top_k_items = (\n",
        "        df.groupby(col_user, as_index=False)\n",
        "        .apply(lambda x: x.nlargest(k, col_rating))\n",
        "        .reset_index(drop=True)\n",
        "    )\n",
        "    # Add ranks\n",
        "    top_k_items[\"rank\"] = top_k_items.groupby(col_user, sort=False).cumcount() + 1\n",
        "    return top_k_items\n",
        "\n",
        "\n",
        "def recommend_topk(model, data, train, k=5):\n",
        "    \n",
        "    \"\"\"\n",
        "    Params:\n",
        "        data (pandas.DataFrame): DataFrame of entire rating data\n",
        "        train (pandas.DataFrame): DataFrame of train rating data\n",
        "        k (int): number of items for each user\n",
        "\n",
        "    Returns:\n",
        "        pd.DataFrame: DataFrame of top k items for each user, sorted by `col_user` and `rank`\n",
        "    \n",
        "    \"\"\"\n",
        "    \n",
        "    # Get predictions for all user-item combination\n",
        "    all_predictions = get_predictions(model, data)\n",
        "    \n",
        "    # Handle Missing Values\n",
        "    all_predictions.fillna(0, inplace=True)\n",
        "    \n",
        "    # Filter already seen items\n",
        "    all_predictions_unseen = filter_by(all_predictions, train, [\"USER\", \"ITEM\"])\n",
        "    \n",
        "    recommend_topk_df = get_top_k_items(all_predictions_unseen, \"USER\", \"RATING_PRED\", k=5)\n",
        "    \n",
        "    return recommend_topk_df"
      ],
      "execution_count": null,
      "outputs": []
    },
    {
      "cell_type": "code",
      "metadata": {
        "id": "OvOitZHZpSiR",
        "colab_type": "code",
        "colab": {}
      },
      "source": [
        "item_embedding = get_embedding(model, \"ItemEmbedding\")\n",
        "user_embedding = get_embedding(model, \"UserEmbedding\")"
      ],
      "execution_count": null,
      "outputs": []
    },
    {
      "cell_type": "code",
      "metadata": {
        "id": "tliCuGERpXnh",
        "colab_type": "code",
        "colab": {}
      },
      "source": [
        "%%time\n",
        "predictions = get_predictions(model, DATA)"
      ],
      "execution_count": null,
      "outputs": []
    },
    {
      "cell_type": "code",
      "metadata": {
        "id": "aBQ-hiI0pa6N",
        "colab_type": "code",
        "colab": {}
      },
      "source": [
        "%%time\n",
        "# Recommendation for TopK\n",
        "ranking_topk = recommend_topk(model, DATA, train, k=5)"
      ],
      "execution_count": null,
      "outputs": []
    },
    {
      "cell_type": "markdown",
      "metadata": {
        "id": "OKPa8D0bQCfG",
        "colab_type": "text"
      },
      "source": [
        "### Get Similar Items"
      ]
    },
    {
      "cell_type": "code",
      "metadata": {
        "id": "8Uqgfe_IpgAg",
        "colab_type": "code",
        "colab": {}
      },
      "source": [
        "from sklearn.neighbors import NearestNeighbors\n",
        "import matplotlib.pyplot as plt\n",
        "import matplotlib.image as mpimg\n",
        "import PIL\n",
        "\n",
        "\n",
        "def get_similar(embedding, k):\n",
        "    model_similar_items = NearestNeighbors(n_neighbors=k, algorithm=\"ball_tree\").fit(embedding)\n",
        "    distances, indices = model_similar_items.kneighbors(embedding)\n",
        "    \n",
        "    return distances, indices\n",
        "\n",
        "\n",
        "\n",
        "def show_similar(item_index, item_similar_indices, item_encoder):\n",
        "        \n",
        "    s = item_similar_indices[item_index]\n",
        "    movie_ids = item_encoder.inverse_transform(s)\n",
        "\n",
        "    images = []\n",
        "    for movie_id in movie_ids:\n",
        "        img_path = '/content/' + str(movie_id) + '.PNG'\n",
        "        images.append(mpimg.imread(img_path))\n",
        "\n",
        "    plt.figure(figsize=(20,10))\n",
        "    columns = 5\n",
        "    for i, image in enumerate(images):\n",
        "        plt.subplot(len(images) / columns + 1, columns, i + 1)\n",
        "        plt.axis('off')\n",
        "        plt.imshow(image)"
      ],
      "execution_count": null,
      "outputs": []
    },
    {
      "cell_type": "code",
      "metadata": {
        "id": "Kip1Bm4ipk-3",
        "colab_type": "code",
        "colab": {}
      },
      "source": [
        "%%time\n",
        "item_distances, item_similar_indices = get_similar(item_embedding, 5)"
      ],
      "execution_count": null,
      "outputs": []
    },
    {
      "cell_type": "code",
      "metadata": {
        "id": "_HNufDCCprAz",
        "colab_type": "code",
        "colab": {}
      },
      "source": [
        "item_similar_indices"
      ],
      "execution_count": null,
      "outputs": []
    },
    {
      "cell_type": "code",
      "metadata": {
        "id": "EO9ooKx1psCG",
        "colab_type": "code",
        "colab": {}
      },
      "source": [
        "show_similar(0, item_similar_indices, item_encoder)"
      ],
      "execution_count": null,
      "outputs": []
    }
  ]
}