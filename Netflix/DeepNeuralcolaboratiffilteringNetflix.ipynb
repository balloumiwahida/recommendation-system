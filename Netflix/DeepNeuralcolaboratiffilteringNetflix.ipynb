{
  "nbformat": 4,
  "nbformat_minor": 0,
  "metadata": {
    "colab": {
      "name": "DeepNeuralcfNetflix.ipynb",
      "provenance": [],
      "collapsed_sections": [],
      "toc_visible": true
    },
    "kernelspec": {
      "name": "python3",
      "display_name": "Python 3"
    }
  },
  "cells": [
    {
      "cell_type": "markdown",
      "metadata": {
        "id": "G7sGaEZxaYRl",
        "colab_type": "text"
      },
      "source": [
        "## Deep Neural CF"
      ]
    },
    {
      "cell_type": "code",
      "metadata": {
        "id": "oii80qVg1YrT",
        "colab_type": "code",
        "colab": {}
      },
      "source": [
        "import numpy as np\n",
        "import pandas as pd\n",
        "import matplotlib.pyplot as plt\n",
        "import seaborn as sns\n",
        "%matplotlib inline"
      ],
      "execution_count": null,
      "outputs": []
    },
    {
      "cell_type": "markdown",
      "metadata": {
        "id": "APIuH-xWahzb",
        "colab_type": "text"
      },
      "source": [
        "### Prepare the data"
      ]
    },
    {
      "cell_type": "code",
      "metadata": {
        "id": "rbLq8K3p1r5l",
        "colab_type": "code",
        "colab": {
          "base_uri": "https://localhost:8080/",
          "height": 419
        },
        "outputId": "6b93a338-c709-4448-87cd-0c2e54986a35"
      },
      "source": [
        "df = pd.read_csv('/content/combined_data_4.txt', header = None, names = ['Cust_Id', 'Rating'], usecols = [0,1])\n",
        "\n",
        "df['Rating'] = df['Rating'].astype(float)\n",
        "df"
      ],
      "execution_count": null,
      "outputs": [
        {
          "output_type": "execute_result",
          "data": {
            "text/html": [
              "<div>\n",
              "<style scoped>\n",
              "    .dataframe tbody tr th:only-of-type {\n",
              "        vertical-align: middle;\n",
              "    }\n",
              "\n",
              "    .dataframe tbody tr th {\n",
              "        vertical-align: top;\n",
              "    }\n",
              "\n",
              "    .dataframe thead th {\n",
              "        text-align: right;\n",
              "    }\n",
              "</style>\n",
              "<table border=\"1\" class=\"dataframe\">\n",
              "  <thead>\n",
              "    <tr style=\"text-align: right;\">\n",
              "      <th></th>\n",
              "      <th>Cust_Id</th>\n",
              "      <th>Rating</th>\n",
              "    </tr>\n",
              "  </thead>\n",
              "  <tbody>\n",
              "    <tr>\n",
              "      <th>0</th>\n",
              "      <td>13368:</td>\n",
              "      <td>NaN</td>\n",
              "    </tr>\n",
              "    <tr>\n",
              "      <th>1</th>\n",
              "      <td>2385003</td>\n",
              "      <td>4.0</td>\n",
              "    </tr>\n",
              "    <tr>\n",
              "      <th>2</th>\n",
              "      <td>659432</td>\n",
              "      <td>3.0</td>\n",
              "    </tr>\n",
              "    <tr>\n",
              "      <th>3</th>\n",
              "      <td>751812</td>\n",
              "      <td>2.0</td>\n",
              "    </tr>\n",
              "    <tr>\n",
              "      <th>4</th>\n",
              "      <td>2625420</td>\n",
              "      <td>2.0</td>\n",
              "    </tr>\n",
              "    <tr>\n",
              "      <th>...</th>\n",
              "      <td>...</td>\n",
              "      <td>...</td>\n",
              "    </tr>\n",
              "    <tr>\n",
              "      <th>815310</th>\n",
              "      <td>367174</td>\n",
              "      <td>4.0</td>\n",
              "    </tr>\n",
              "    <tr>\n",
              "      <th>815311</th>\n",
              "      <td>79194</td>\n",
              "      <td>1.0</td>\n",
              "    </tr>\n",
              "    <tr>\n",
              "      <th>815312</th>\n",
              "      <td>580207</td>\n",
              "      <td>4.0</td>\n",
              "    </tr>\n",
              "    <tr>\n",
              "      <th>815313</th>\n",
              "      <td>2347324</td>\n",
              "      <td>4.0</td>\n",
              "    </tr>\n",
              "    <tr>\n",
              "      <th>815314</th>\n",
              "      <td>1</td>\n",
              "      <td>NaN</td>\n",
              "    </tr>\n",
              "  </tbody>\n",
              "</table>\n",
              "<p>815315 rows × 2 columns</p>\n",
              "</div>"
            ],
            "text/plain": [
              "        Cust_Id  Rating\n",
              "0        13368:     NaN\n",
              "1       2385003     4.0\n",
              "2        659432     3.0\n",
              "3        751812     2.0\n",
              "4       2625420     2.0\n",
              "...         ...     ...\n",
              "815310   367174     4.0\n",
              "815311    79194     1.0\n",
              "815312   580207     4.0\n",
              "815313  2347324     4.0\n",
              "815314        1     NaN\n",
              "\n",
              "[815315 rows x 2 columns]"
            ]
          },
          "metadata": {
            "tags": []
          },
          "execution_count": 3
        }
      ]
    },
    {
      "cell_type": "code",
      "metadata": {
        "id": "D7CLIle915dJ",
        "colab_type": "code",
        "colab": {
          "base_uri": "https://localhost:8080/",
          "height": 51
        },
        "outputId": "36afa366-5def-45a4-d878-4c9db42cbdec"
      },
      "source": [
        "df_nan = pd.DataFrame(pd.isnull(df.Rating))\n",
        "df_nan = df_nan[df_nan['Rating'] == True]\n",
        "df_nan = df_nan.reset_index()\n",
        "\n",
        "movie_np = []\n",
        "movie_id = 1\n",
        "\n",
        "for i,j in zip(df_nan['index'][1:],df_nan['index'][:-1]):\n",
        "    # numpy approach\n",
        "    temp = np.full((1,i-j-1), movie_id)\n",
        "    movie_np = np.append(movie_np, temp)\n",
        "    movie_id += 1\n",
        "\n",
        "# Account for last record and corresponding length\n",
        "# numpy approach\n",
        "last_record = np.full((1,len(df) - df_nan.iloc[-1, 0] - 1),movie_id)\n",
        "movie_np = np.append(movie_np, last_record)\n",
        "\n",
        "print('Movie numpy: {}'.format(movie_np))\n",
        "print('Length: {}'.format(len(movie_np)))"
      ],
      "execution_count": null,
      "outputs": [
        {
          "output_type": "stream",
          "text": [
            "Movie numpy: [  1.   1.   1. ... 104. 104. 104.]\n",
            "Length: 815210\n"
          ],
          "name": "stdout"
        }
      ]
    },
    {
      "cell_type": "code",
      "metadata": {
        "id": "KlDTpE191-LM",
        "colab_type": "code",
        "colab": {
          "base_uri": "https://localhost:8080/",
          "height": 436
        },
        "outputId": "e9fa331e-cd10-40ad-a347-b81b9cf5dd89"
      },
      "source": [
        "df = df[pd.notnull(df['Rating'])]\n",
        "\n",
        "df['Movie_Id'] = movie_np.astype(int)\n",
        "df['Cust_Id'] = df['Cust_Id'].astype(int)\n",
        "print('-Dataset examples-')\n",
        "#print(df.iloc[::5000000, :])\n",
        "df"
      ],
      "execution_count": null,
      "outputs": [
        {
          "output_type": "stream",
          "text": [
            "-Dataset examples-\n"
          ],
          "name": "stdout"
        },
        {
          "output_type": "execute_result",
          "data": {
            "text/html": [
              "<div>\n",
              "<style scoped>\n",
              "    .dataframe tbody tr th:only-of-type {\n",
              "        vertical-align: middle;\n",
              "    }\n",
              "\n",
              "    .dataframe tbody tr th {\n",
              "        vertical-align: top;\n",
              "    }\n",
              "\n",
              "    .dataframe thead th {\n",
              "        text-align: right;\n",
              "    }\n",
              "</style>\n",
              "<table border=\"1\" class=\"dataframe\">\n",
              "  <thead>\n",
              "    <tr style=\"text-align: right;\">\n",
              "      <th></th>\n",
              "      <th>Cust_Id</th>\n",
              "      <th>Rating</th>\n",
              "      <th>Movie_Id</th>\n",
              "    </tr>\n",
              "  </thead>\n",
              "  <tbody>\n",
              "    <tr>\n",
              "      <th>1</th>\n",
              "      <td>2385003</td>\n",
              "      <td>4.0</td>\n",
              "      <td>1</td>\n",
              "    </tr>\n",
              "    <tr>\n",
              "      <th>2</th>\n",
              "      <td>659432</td>\n",
              "      <td>3.0</td>\n",
              "      <td>1</td>\n",
              "    </tr>\n",
              "    <tr>\n",
              "      <th>3</th>\n",
              "      <td>751812</td>\n",
              "      <td>2.0</td>\n",
              "      <td>1</td>\n",
              "    </tr>\n",
              "    <tr>\n",
              "      <th>4</th>\n",
              "      <td>2625420</td>\n",
              "      <td>2.0</td>\n",
              "      <td>1</td>\n",
              "    </tr>\n",
              "    <tr>\n",
              "      <th>5</th>\n",
              "      <td>1650301</td>\n",
              "      <td>1.0</td>\n",
              "      <td>1</td>\n",
              "    </tr>\n",
              "    <tr>\n",
              "      <th>...</th>\n",
              "      <td>...</td>\n",
              "      <td>...</td>\n",
              "      <td>...</td>\n",
              "    </tr>\n",
              "    <tr>\n",
              "      <th>815309</th>\n",
              "      <td>2491821</td>\n",
              "      <td>4.0</td>\n",
              "      <td>104</td>\n",
              "    </tr>\n",
              "    <tr>\n",
              "      <th>815310</th>\n",
              "      <td>367174</td>\n",
              "      <td>4.0</td>\n",
              "      <td>104</td>\n",
              "    </tr>\n",
              "    <tr>\n",
              "      <th>815311</th>\n",
              "      <td>79194</td>\n",
              "      <td>1.0</td>\n",
              "      <td>104</td>\n",
              "    </tr>\n",
              "    <tr>\n",
              "      <th>815312</th>\n",
              "      <td>580207</td>\n",
              "      <td>4.0</td>\n",
              "      <td>104</td>\n",
              "    </tr>\n",
              "    <tr>\n",
              "      <th>815313</th>\n",
              "      <td>2347324</td>\n",
              "      <td>4.0</td>\n",
              "      <td>104</td>\n",
              "    </tr>\n",
              "  </tbody>\n",
              "</table>\n",
              "<p>815210 rows × 3 columns</p>\n",
              "</div>"
            ],
            "text/plain": [
              "        Cust_Id  Rating  Movie_Id\n",
              "1       2385003     4.0         1\n",
              "2        659432     3.0         1\n",
              "3        751812     2.0         1\n",
              "4       2625420     2.0         1\n",
              "5       1650301     1.0         1\n",
              "...         ...     ...       ...\n",
              "815309  2491821     4.0       104\n",
              "815310   367174     4.0       104\n",
              "815311    79194     1.0       104\n",
              "815312   580207     4.0       104\n",
              "815313  2347324     4.0       104\n",
              "\n",
              "[815210 rows x 3 columns]"
            ]
          },
          "metadata": {
            "tags": []
          },
          "execution_count": 5
        }
      ]
    },
    {
      "cell_type": "code",
      "metadata": {
        "id": "yN2fPYXO2Cn3",
        "colab_type": "code",
        "colab": {
          "base_uri": "https://localhost:8080/",
          "height": 122
        },
        "outputId": "d586e11b-93e9-4ba3-a66b-4bcb10a4c7bd"
      },
      "source": [
        "pip install sklearn"
      ],
      "execution_count": null,
      "outputs": [
        {
          "output_type": "stream",
          "text": [
            "Requirement already satisfied: sklearn in /usr/local/lib/python3.6/dist-packages (0.0)\n",
            "Requirement already satisfied: scikit-learn in /usr/local/lib/python3.6/dist-packages (from sklearn) (0.22.2.post1)\n",
            "Requirement already satisfied: numpy>=1.11.0 in /usr/local/lib/python3.6/dist-packages (from scikit-learn->sklearn) (1.18.5)\n",
            "Requirement already satisfied: joblib>=0.11 in /usr/local/lib/python3.6/dist-packages (from scikit-learn->sklearn) (0.16.0)\n",
            "Requirement already satisfied: scipy>=0.17.0 in /usr/local/lib/python3.6/dist-packages (from scikit-learn->sklearn) (1.4.1)\n"
          ],
          "name": "stdout"
        }
      ]
    },
    {
      "cell_type": "code",
      "metadata": {
        "id": "2S518sa82G9b",
        "colab_type": "code",
        "colab": {}
      },
      "source": [
        "from sklearn.preprocessing import LabelEncoder"
      ],
      "execution_count": null,
      "outputs": []
    },
    {
      "cell_type": "code",
      "metadata": {
        "id": "kwzLnfUc2KFd",
        "colab_type": "code",
        "colab": {}
      },
      "source": [
        "def encode_user_item(df, user_col, item_col, rating_col):\n",
        "    \"\"\"Function to encode users and items\n",
        "    \n",
        "    Params:     \n",
        "        df (pd.DataFrame): Pandas data frame to be used.\n",
        "        user_col (string): Name of the user column.\n",
        "        item_col (string): Name of the item column.\n",
        "        rating_col (string): Name of the rating column.\n",
        "        timestamp_col (string): Name of the timestamp column.\n",
        "    \n",
        "    Returns: \n",
        "        encoded_df (pd.DataFrame): Modifed dataframe with the users and items index\n",
        "    \"\"\"\n",
        "    \n",
        "    encoded_df = df.copy()\n",
        "    \n",
        "    user_encoder = LabelEncoder()\n",
        "    user_encoder.fit(encoded_df[user_col].values)\n",
        "    n_users = len(user_encoder.classes_)\n",
        "    \n",
        "    item_encoder = LabelEncoder()\n",
        "    item_encoder.fit(encoded_df[item_col].values)\n",
        "    n_items = len(item_encoder.classes_)\n",
        "\n",
        "    encoded_df[\"USER\"] = user_encoder.transform(encoded_df[user_col])\n",
        "    encoded_df[\"ITEM\"] = item_encoder.transform(encoded_df[item_col])\n",
        "    \n",
        "    encoded_df.rename({rating_col: \"RATING\"}, axis=1, inplace=True)\n",
        "    \n",
        "    print(\"Number of users: \", n_users)\n",
        "    print(\"Number of items: \", n_items)\n",
        "    \n",
        "    return encoded_df, user_encoder, item_encoder"
      ],
      "execution_count": null,
      "outputs": []
    },
    {
      "cell_type": "code",
      "metadata": {
        "id": "786CS_882P16",
        "colab_type": "code",
        "colab": {
          "base_uri": "https://localhost:8080/",
          "height": 51
        },
        "outputId": "cdd95e88-5a1e-4c77-8221-9408bcc0db23"
      },
      "source": [
        "#Data Encoding\n",
        "DATA, user_encoder, item_encoder = encode_user_item(df, \"Cust_Id\", \"Movie_Id\", \"Rating\")"
      ],
      "execution_count": null,
      "outputs": [
        {
          "output_type": "stream",
          "text": [
            "Number of users:  279036\n",
            "Number of items:  104\n"
          ],
          "name": "stdout"
        }
      ]
    },
    {
      "cell_type": "code",
      "metadata": {
        "id": "_QqmXjPv2TtP",
        "colab_type": "code",
        "colab": {
          "base_uri": "https://localhost:8080/",
          "height": 34
        },
        "outputId": "b1fd32ea-20c1-49dd-d861-537fd793a121"
      },
      "source": [
        "n_users = DATA.USER.nunique()\n",
        "n_items = DATA.ITEM.nunique()\n",
        "n_users, n_items"
      ],
      "execution_count": null,
      "outputs": [
        {
          "output_type": "execute_result",
          "data": {
            "text/plain": [
              "(279036, 104)"
            ]
          },
          "metadata": {
            "tags": []
          },
          "execution_count": 10
        }
      ]
    },
    {
      "cell_type": "code",
      "metadata": {
        "id": "0VbBaVqs2Wf_",
        "colab_type": "code",
        "colab": {
          "base_uri": "https://localhost:8080/",
          "height": 34
        },
        "outputId": "6f6acbe4-dee1-4930-e8dc-571bb22104d8"
      },
      "source": [
        "max_rating = DATA.RATING.max()\n",
        "min_rating = DATA.RATING.min()\n",
        "min_rating, max_rating"
      ],
      "execution_count": null,
      "outputs": [
        {
          "output_type": "execute_result",
          "data": {
            "text/plain": [
              "(1.0, 5.0)"
            ]
          },
          "metadata": {
            "tags": []
          },
          "execution_count": 11
        }
      ]
    },
    {
      "cell_type": "code",
      "metadata": {
        "id": "fh9eKfx-2b0B",
        "colab_type": "code",
        "colab": {}
      },
      "source": [
        "def random_split (df, ratios, shuffle=False):\n",
        "    \n",
        "    \"\"\"Function to split pandas DataFrame into train, validation and test\n",
        "    \n",
        "    Params:     \n",
        "        df (pd.DataFrame): Pandas data frame to be split.\n",
        "        ratios (list of floats): list of ratios for split. The ratios have to sum to 1.\n",
        "    \n",
        "    Returns: \n",
        "        list: List of pd.DataFrame split by the given specifications.\n",
        "    \"\"\"\n",
        "    seed = 42                  # Set random seed\n",
        "    if shuffle == True:\n",
        "        df = df.sample(frac=1)     # Shuffle the data\n",
        "    samples = df.shape[0]      # Number of samples\n",
        "    \n",
        "    # Converts [0.7, 0.2, 0.1] to [0.7, 0.9]\n",
        "    split_ratio = np.cumsum(ratios).tolist()[:-1] # Get split index\n",
        "    \n",
        "    # Get the rounded integer split index\n",
        "    split_index = [round(x * samples) for x in split_ratio]\n",
        "    \n",
        "    # split the data\n",
        "    splits = np.split(df, split_index)\n",
        "    \n",
        "    # Add split index (this makes splitting by group more efficient).\n",
        "    for i in range(len(ratios)):\n",
        "        splits[i][\"split_index\"] = i\n",
        "\n",
        "    return splits"
      ],
      "execution_count": null,
      "outputs": []
    },
    {
      "cell_type": "code",
      "metadata": {
        "id": "inWAZZtC2hxD",
        "colab_type": "code",
        "colab": {}
      },
      "source": [
        "# Data Splitting\n",
        "train, test = random_split(DATA, [0.8, 0.2])"
      ],
      "execution_count": null,
      "outputs": []
    },
    {
      "cell_type": "code",
      "metadata": {
        "id": "ID4uRmLG2lgi",
        "colab_type": "code",
        "colab": {
          "base_uri": "https://localhost:8080/",
          "height": 34
        },
        "outputId": "157d6e8b-ed14-4874-a20c-f71f92f4ea4e"
      },
      "source": [
        "train.shape, test.shape"
      ],
      "execution_count": null,
      "outputs": [
        {
          "output_type": "execute_result",
          "data": {
            "text/plain": [
              "((652168, 6), (163042, 6))"
            ]
          },
          "metadata": {
            "tags": []
          },
          "execution_count": 14
        }
      ]
    },
    {
      "cell_type": "markdown",
      "metadata": {
        "id": "-rP5nvx4avpB",
        "colab_type": "text"
      },
      "source": [
        "## Deep Neural CF"
      ]
    },
    {
      "cell_type": "code",
      "metadata": {
        "id": "5ruECnno2olq",
        "colab_type": "code",
        "colab": {}
      },
      "source": [
        "from keras.models import Model\n",
        "from keras.layers import Input, Embedding, Flatten, Dot, Add, Lambda, Activation, Reshape, Concatenate, Dense\n",
        "from keras.regularizers import l2\n",
        "from keras.constraints import non_neg\n",
        "from keras.utils import plot_model\n",
        "from keras.utils.vis_utils import model_to_dot"
      ],
      "execution_count": null,
      "outputs": []
    },
    {
      "cell_type": "markdown",
      "metadata": {
        "id": "k5NVaQbDa7I8",
        "colab_type": "text"
      },
      "source": [
        "### Build the Model"
      ]
    },
    {
      "cell_type": "code",
      "metadata": {
        "id": "MuLU0jlu2yk9",
        "colab_type": "code",
        "colab": {}
      },
      "source": [
        "def Neural_CF(n_users, n_items, n_factors):\n",
        "    \n",
        "    # Item Layer\n",
        "    item_input = Input(shape=[1], name='Item')\n",
        "    \n",
        "    # Item Embedding MF\n",
        "    item_embedding_mf = Embedding(n_items, n_factors, embeddings_regularizer=l2(1e-6),\n",
        "                                  embeddings_initializer='he_normal',\n",
        "                                  name='ItemEmbeddingMF')(item_input)\n",
        "    item_vec_mf = Flatten(name='FlattenItemMF')(item_embedding_mf)\n",
        "    \n",
        "    \n",
        "    # Item embedding MLP\n",
        "    item_embedding_mlp = Embedding(n_items, n_factors, embeddings_regularizer=l2(1e-6),\n",
        "                                embeddings_initializer='he_normal',\n",
        "                               name='ItemEmbeddingMLP')(item_input)\n",
        "    item_vec_mlp = Flatten(name='FlattenItemMLP')(item_embedding_mlp)\n",
        "    \n",
        "\n",
        "    # User Layer\n",
        "    user_input = Input(shape=[1], name='User')\n",
        "    \n",
        "    # User Embedding MF\n",
        "    user_embedding_mf = Embedding(n_users, n_factors, embeddings_regularizer=l2(1e-6), \n",
        "                                embeddings_initializer='he_normal',\n",
        "                               name='UserEmbeddingMF')(user_input)\n",
        "    user_vec_mf = Flatten(name='FlattenUserMF')(user_embedding_mf)\n",
        "    \n",
        "    # User Embedding MF\n",
        "    user_embedding_mlp = Embedding(n_users, n_factors, embeddings_regularizer=l2(1e-6),\n",
        "                               embeddings_initializer='he_normal',\n",
        "                               name='UserEmbeddingMLP')(user_input)\n",
        "    user_vec_mlp = Flatten(name='FlattenUserMLP')(user_embedding_mlp)\n",
        "    \n",
        "    # Multiply MF paths\n",
        "    DotProductMF = Dot(axes=1, name='DotProductMF')([item_vec_mf, user_vec_mf])\n",
        "    \n",
        "    # Concat MLP paths\n",
        "    ConcatMLP = Concatenate(name='ConcatMLP')([item_vec_mlp, user_vec_mlp])\n",
        "    \n",
        "    # Use Dense to learn non-linear dense representation\n",
        "    Dense_1 = Dense(50, name=\"Dense1\")(ConcatMLP)\n",
        "    Dense_2 = Dense(20, name=\"Dense2\")(Dense_1)\n",
        "\n",
        "    # Concatenate MF and MLP paths\n",
        "    Concat = Concatenate(name=\"ConcatAll\")([DotProductMF, Dense_2])\n",
        "    \n",
        "    # Use Dense to learn non-linear dense representation\n",
        "    Pred = Dense(1, name=\"Pred\")(Concat)\n",
        "    \n",
        "\n",
        "    # Item Bias\n",
        "    item_bias = Embedding(n_items, 1, embeddings_regularizer=l2(1e-5), name='ItemBias')(item_input)\n",
        "    item_bias_vec = Flatten(name='FlattenItemBiasE')(item_bias)\n",
        "\n",
        "    # User Bias\n",
        "    user_bias = Embedding(n_users, 1, embeddings_regularizer=l2(1e-5), name='UserBias')(user_input)\n",
        "    user_bias_vec = Flatten(name='FlattenUserBiasE')(user_bias)\n",
        "\n",
        "    # Pred with bias added\n",
        "    PredAddBias = Add(name=\"AddBias\")([Pred, item_bias_vec, user_bias_vec])\n",
        "    \n",
        "    \n",
        "    # Scaling for each user\n",
        "    y = Activation('sigmoid')(PredAddBias)\n",
        "    rating_output = Lambda(lambda x: x * (max_rating - min_rating) + min_rating)(y)\n",
        "    \n",
        "    # Model Creation\n",
        "    model = Model([user_input, item_input], rating_output)\n",
        "    \n",
        "    # Compile Model\n",
        "    model.compile(loss='mean_squared_error', optimizer=\"adam\")\n",
        "    \n",
        "    return model"
      ],
      "execution_count": null,
      "outputs": []
    },
    {
      "cell_type": "code",
      "metadata": {
        "id": "ND1Lric22696",
        "colab_type": "code",
        "colab": {}
      },
      "source": [
        "n_factors = 40\n",
        "model = Neural_CF(n_users, n_items, n_factors)"
      ],
      "execution_count": null,
      "outputs": []
    },
    {
      "cell_type": "code",
      "metadata": {
        "id": "djVOcYdc3BT9",
        "colab_type": "code",
        "colab": {
          "base_uri": "https://localhost:8080/",
          "height": 1000
        },
        "outputId": "bd294e2d-69e2-4e24-d2b3-4cae377a8dda"
      },
      "source": [
        "model.summary()"
      ],
      "execution_count": null,
      "outputs": [
        {
          "output_type": "stream",
          "text": [
            "Model: \"functional_1\"\n",
            "__________________________________________________________________________________________________\n",
            "Layer (type)                    Output Shape         Param #     Connected to                     \n",
            "==================================================================================================\n",
            "Item (InputLayer)               [(None, 1)]          0                                            \n",
            "__________________________________________________________________________________________________\n",
            "User (InputLayer)               [(None, 1)]          0                                            \n",
            "__________________________________________________________________________________________________\n",
            "ItemEmbeddingMLP (Embedding)    (None, 1, 40)        4160        Item[0][0]                       \n",
            "__________________________________________________________________________________________________\n",
            "UserEmbeddingMLP (Embedding)    (None, 1, 40)        11161440    User[0][0]                       \n",
            "__________________________________________________________________________________________________\n",
            "FlattenItemMLP (Flatten)        (None, 40)           0           ItemEmbeddingMLP[0][0]           \n",
            "__________________________________________________________________________________________________\n",
            "FlattenUserMLP (Flatten)        (None, 40)           0           UserEmbeddingMLP[0][0]           \n",
            "__________________________________________________________________________________________________\n",
            "ItemEmbeddingMF (Embedding)     (None, 1, 40)        4160        Item[0][0]                       \n",
            "__________________________________________________________________________________________________\n",
            "UserEmbeddingMF (Embedding)     (None, 1, 40)        11161440    User[0][0]                       \n",
            "__________________________________________________________________________________________________\n",
            "ConcatMLP (Concatenate)         (None, 80)           0           FlattenItemMLP[0][0]             \n",
            "                                                                 FlattenUserMLP[0][0]             \n",
            "__________________________________________________________________________________________________\n",
            "FlattenItemMF (Flatten)         (None, 40)           0           ItemEmbeddingMF[0][0]            \n",
            "__________________________________________________________________________________________________\n",
            "FlattenUserMF (Flatten)         (None, 40)           0           UserEmbeddingMF[0][0]            \n",
            "__________________________________________________________________________________________________\n",
            "Dense1 (Dense)                  (None, 50)           4050        ConcatMLP[0][0]                  \n",
            "__________________________________________________________________________________________________\n",
            "DotProductMF (Dot)              (None, 1)            0           FlattenItemMF[0][0]              \n",
            "                                                                 FlattenUserMF[0][0]              \n",
            "__________________________________________________________________________________________________\n",
            "Dense2 (Dense)                  (None, 20)           1020        Dense1[0][0]                     \n",
            "__________________________________________________________________________________________________\n",
            "ConcatAll (Concatenate)         (None, 21)           0           DotProductMF[0][0]               \n",
            "                                                                 Dense2[0][0]                     \n",
            "__________________________________________________________________________________________________\n",
            "ItemBias (Embedding)            (None, 1, 1)         104         Item[0][0]                       \n",
            "__________________________________________________________________________________________________\n",
            "UserBias (Embedding)            (None, 1, 1)         279036      User[0][0]                       \n",
            "__________________________________________________________________________________________________\n",
            "Pred (Dense)                    (None, 1)            22          ConcatAll[0][0]                  \n",
            "__________________________________________________________________________________________________\n",
            "FlattenItemBiasE (Flatten)      (None, 1)            0           ItemBias[0][0]                   \n",
            "__________________________________________________________________________________________________\n",
            "FlattenUserBiasE (Flatten)      (None, 1)            0           UserBias[0][0]                   \n",
            "__________________________________________________________________________________________________\n",
            "AddBias (Add)                   (None, 1)            0           Pred[0][0]                       \n",
            "                                                                 FlattenItemBiasE[0][0]           \n",
            "                                                                 FlattenUserBiasE[0][0]           \n",
            "__________________________________________________________________________________________________\n",
            "activation (Activation)         (None, 1)            0           AddBias[0][0]                    \n",
            "__________________________________________________________________________________________________\n",
            "lambda (Lambda)                 (None, 1)            0           activation[0][0]                 \n",
            "==================================================================================================\n",
            "Total params: 22,615,432\n",
            "Trainable params: 22,615,432\n",
            "Non-trainable params: 0\n",
            "__________________________________________________________________________________________________\n"
          ],
          "name": "stdout"
        }
      ]
    },
    {
      "cell_type": "markdown",
      "metadata": {
        "id": "jmE_vSPhbIrS",
        "colab_type": "text"
      },
      "source": [
        "### Train the Model"
      ]
    },
    {
      "cell_type": "code",
      "metadata": {
        "id": "XcSL5u1C3EVZ",
        "colab_type": "code",
        "colab": {
          "base_uri": "https://localhost:8080/",
          "height": 119
        },
        "outputId": "b0518764-0fc7-47a8-e38f-27967d7239fc"
      },
      "source": [
        "%%time\n",
        "output = model.fit([train.USER, train.ITEM], train.RATING,batch_size=128,\n",
        "                                  epochs=2, verbose=1,validation_data= ([test.USER, test.ITEM], test.RATING))"
      ],
      "execution_count": null,
      "outputs": [
        {
          "output_type": "stream",
          "text": [
            "Epoch 1/2\n",
            "5096/5096 [==============================] - 966s 189ms/step - loss: 0.9594 - val_loss: 1.1521\n",
            "Epoch 2/2\n",
            "5096/5096 [==============================] - 972s 191ms/step - loss: 0.4054 - val_loss: 1.2259\n",
            "CPU times: user 58min 50s, sys: 1min 25s, total: 1h 16s\n",
            "Wall time: 32min 19s\n"
          ],
          "name": "stdout"
        }
      ]
    },
    {
      "cell_type": "code",
      "metadata": {
        "id": "nRfBAXK83J_L",
        "colab_type": "code",
        "colab": {}
      },
      "source": [
        "import altair as alt\n",
        "import matplotlib.pyplot as plt\n",
        "from mpl_toolkits.mplot3d import Axes3D\n",
        "\n",
        "from keras.preprocessing.image import ImageDataGenerator\n",
        "    \n",
        "        \n",
        "# Visualise the metrics from the model\n",
        "def metrics(history):\n",
        "    df = pd.DataFrame(history)\n",
        "    df.reset_index()\n",
        "    df[\"batch\"] = df.index + 1\n",
        "    df = df.melt(\"batch\", var_name=\"name\")\n",
        "    df[\"val\"] = df.name.str.startswith(\"val\")\n",
        "    df[\"type\"] = df[\"val\"]\n",
        "    df[\"metrics\"] = df[\"val\"]\n",
        "    df.loc[df.val == False, \"type\"] = \"training\"\n",
        "    df.loc[df.val == True, \"type\"] = \"validation\"\n",
        "    df.loc[df.val == False, \"metrics\"] = df.name\n",
        "    df.loc[df.val == True, \"metrics\"] = df.name.str.split(\"val_\", expand=True)[1]\n",
        "    df = df.drop([\"name\", \"val\"], axis=1)\n",
        "    \n",
        "    base = alt.Chart().encode(\n",
        "        x = \"batch:Q\",\n",
        "        y = \"value:Q\",\n",
        "        color = \"type\"\n",
        "    ).properties(width = 300, height = 300)\n",
        "\n",
        "    layers = base.mark_circle(size = 50).encode(tooltip = [\"batch\", \"value\"]) + base.mark_line()\n",
        "    chart = layers.facet(column='metrics:N', data=df).resolve_scale(y='independent')    \n",
        "    \n",
        "    return chart"
      ],
      "execution_count": null,
      "outputs": []
    },
    {
      "cell_type": "code",
      "metadata": {
        "id": "oJn-b9643TWT",
        "colab_type": "code",
        "colab": {
          "base_uri": "https://localhost:8080/",
          "height": 421
        },
        "outputId": "584ee98c-dbaa-44e7-f90a-81595b017c20"
      },
      "source": [
        "metrics(output.history)"
      ],
      "execution_count": null,
      "outputs": [
        {
          "output_type": "execute_result",
          "data": {
            "text/plain": [
              "alt.FacetChart(...)"
            ],
            "text/html": [
              "\n",
              "<div id=\"altair-viz-d5458f60b8084eeaa3bb7df34aa1c46a\"></div>\n",
              "<script type=\"text/javascript\">\n",
              "  (function(spec, embedOpt){\n",
              "    let outputDiv = document.currentScript.previousElementSibling;\n",
              "    if (outputDiv.id !== \"altair-viz-d5458f60b8084eeaa3bb7df34aa1c46a\") {\n",
              "      outputDiv = document.getElementById(\"altair-viz-d5458f60b8084eeaa3bb7df34aa1c46a\");\n",
              "    }\n",
              "    const paths = {\n",
              "      \"vega\": \"https://cdn.jsdelivr.net/npm//vega@5?noext\",\n",
              "      \"vega-lib\": \"https://cdn.jsdelivr.net/npm//vega-lib?noext\",\n",
              "      \"vega-lite\": \"https://cdn.jsdelivr.net/npm//vega-lite@4.8.1?noext\",\n",
              "      \"vega-embed\": \"https://cdn.jsdelivr.net/npm//vega-embed@6?noext\",\n",
              "    };\n",
              "\n",
              "    function loadScript(lib) {\n",
              "      return new Promise(function(resolve, reject) {\n",
              "        var s = document.createElement('script');\n",
              "        s.src = paths[lib];\n",
              "        s.async = true;\n",
              "        s.onload = () => resolve(paths[lib]);\n",
              "        s.onerror = () => reject(`Error loading script: ${paths[lib]}`);\n",
              "        document.getElementsByTagName(\"head\")[0].appendChild(s);\n",
              "      });\n",
              "    }\n",
              "\n",
              "    function showError(err) {\n",
              "      outputDiv.innerHTML = `<div class=\"error\" style=\"color:red;\">${err}</div>`;\n",
              "      throw err;\n",
              "    }\n",
              "\n",
              "    function displayChart(vegaEmbed) {\n",
              "      vegaEmbed(outputDiv, spec, embedOpt)\n",
              "        .catch(err => showError(`Javascript Error: ${err.message}<br>This usually means there's a typo in your chart specification. See the javascript console for the full traceback.`));\n",
              "    }\n",
              "\n",
              "    if(typeof define === \"function\" && define.amd) {\n",
              "      requirejs.config({paths});\n",
              "      require([\"vega-embed\"], displayChart, err => showError(`Error loading script: ${err.message}`));\n",
              "    } else if (typeof vegaEmbed === \"function\") {\n",
              "      displayChart(vegaEmbed);\n",
              "    } else {\n",
              "      loadScript(\"vega\")\n",
              "        .then(() => loadScript(\"vega-lite\"))\n",
              "        .then(() => loadScript(\"vega-embed\"))\n",
              "        .catch(showError)\n",
              "        .then(() => displayChart(vegaEmbed));\n",
              "    }\n",
              "  })({\"config\": {\"view\": {\"continuousWidth\": 400, \"continuousHeight\": 300}}, \"data\": {\"name\": \"data-2df5759e115ac41f84b42e508f96ceb1\"}, \"facet\": {\"column\": {\"type\": \"nominal\", \"field\": \"metrics\"}}, \"spec\": {\"layer\": [{\"mark\": {\"type\": \"circle\", \"size\": 50}, \"encoding\": {\"color\": {\"type\": \"nominal\", \"field\": \"type\"}, \"tooltip\": [{\"type\": \"quantitative\", \"field\": \"batch\"}, {\"type\": \"quantitative\", \"field\": \"value\"}], \"x\": {\"type\": \"quantitative\", \"field\": \"batch\"}, \"y\": {\"type\": \"quantitative\", \"field\": \"value\"}}, \"height\": 300, \"width\": 300}, {\"mark\": \"line\", \"encoding\": {\"color\": {\"type\": \"nominal\", \"field\": \"type\"}, \"x\": {\"type\": \"quantitative\", \"field\": \"batch\"}, \"y\": {\"type\": \"quantitative\", \"field\": \"value\"}}, \"height\": 300, \"width\": 300}]}, \"resolve\": {\"scale\": {\"y\": \"independent\"}}, \"$schema\": \"https://vega.github.io/schema/vega-lite/v4.8.1.json\", \"datasets\": {\"data-2df5759e115ac41f84b42e508f96ceb1\": [{\"batch\": 1, \"value\": 0.9594289064407349, \"type\": \"training\", \"metrics\": \"loss\"}, {\"batch\": 2, \"value\": 0.4054318070411682, \"type\": \"training\", \"metrics\": \"loss\"}, {\"batch\": 1, \"value\": 1.1520620584487915, \"type\": \"validation\", \"metrics\": \"loss\"}, {\"batch\": 2, \"value\": 1.22592031955719, \"type\": \"validation\", \"metrics\": \"loss\"}]}}, {\"mode\": \"vega-lite\"});\n",
              "</script>"
            ]
          },
          "metadata": {
            "tags": []
          },
          "execution_count": 21
        }
      ]
    },
    {
      "cell_type": "markdown",
      "metadata": {
        "id": "0a1h0tpFbnVT",
        "colab_type": "text"
      },
      "source": [
        "### Score the Model"
      ]
    },
    {
      "cell_type": "code",
      "metadata": {
        "id": "lBPN-lfQ3XwZ",
        "colab_type": "code",
        "colab": {
          "base_uri": "https://localhost:8080/",
          "height": 51
        },
        "outputId": "6e475c94-158e-4d4b-cbc7-06c41e21a2fb"
      },
      "source": [
        "score = model.evaluate([test.USER, test.ITEM], test.RATING, verbose=1)\n",
        "score"
      ],
      "execution_count": null,
      "outputs": [
        {
          "output_type": "stream",
          "text": [
            "5096/5096 [==============================] - 204s 40ms/step - loss: 1.2259\n"
          ],
          "name": "stdout"
        },
        {
          "output_type": "execute_result",
          "data": {
            "text/plain": [
              "1.2259193658828735"
            ]
          },
          "metadata": {
            "tags": []
          },
          "execution_count": 22
        }
      ]
    },
    {
      "cell_type": "code",
      "metadata": {
        "id": "IbEjMX4v3b8f",
        "colab_type": "code",
        "colab": {
          "base_uri": "https://localhost:8080/",
          "height": 51
        },
        "outputId": "788566cf-0883-416b-a0ee-bd34c66ae685"
      },
      "source": [
        "from sklearn.metrics import mean_absolute_error\n",
        "from sklearn.metrics import mean_squared_error\n",
        "print(mean_absolute_error(test.RATING, model.predict([test.USER, test.ITEM])))\n",
        "print(mean_squared_error(test.RATING, model.predict([test.USER, test.ITEM])))"
      ],
      "execution_count": null,
      "outputs": [
        {
          "output_type": "stream",
          "text": [
            "0.8842713081876622\n",
            "1.1936463713236538\n"
          ],
          "name": "stdout"
        }
      ]
    },
    {
      "cell_type": "markdown",
      "metadata": {
        "id": "xq8Gh1Oubr5a",
        "colab_type": "text"
      },
      "source": [
        "### Prediction & recommendation"
      ]
    },
    {
      "cell_type": "markdown",
      "metadata": {
        "id": "q-8dbeTMcDHf",
        "colab_type": "text"
      },
      "source": [
        "### Get Similar Items"
      ]
    }
  ]
}