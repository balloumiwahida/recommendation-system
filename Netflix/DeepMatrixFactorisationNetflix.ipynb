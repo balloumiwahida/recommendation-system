{
  "nbformat": 4,
  "nbformat_minor": 0,
  "metadata": {
    "colab": {
      "name": "DeepMFNetflix.ipynb",
      "provenance": [],
      "collapsed_sections": [],
      "toc_visible": true
    },
    "kernelspec": {
      "name": "python3",
      "display_name": "Python 3"
    }
  },
  "cells": [
    {
      "cell_type": "markdown",
      "metadata": {
        "id": "-s80ITJzWo_6",
        "colab_type": "text"
      },
      "source": [
        "# Deep Matrix Factorisation "
      ]
    },
    {
      "cell_type": "code",
      "metadata": {
        "id": "SSYF4vL5t6VP",
        "colab_type": "code",
        "colab": {}
      },
      "source": [
        "import numpy as np\n",
        "import pandas as pd\n",
        "import matplotlib.pyplot as plt\n",
        "import seaborn as sns\n",
        "%matplotlib inline"
      ],
      "execution_count": null,
      "outputs": []
    },
    {
      "cell_type": "markdown",
      "metadata": {
        "id": "Po4ArVH1Wqh_",
        "colab_type": "text"
      },
      "source": [
        "### Prepare the data"
      ]
    },
    {
      "cell_type": "code",
      "metadata": {
        "id": "eYnh_SyYuAEN",
        "colab_type": "code",
        "colab": {
          "base_uri": "https://localhost:8080/",
          "height": 419
        },
        "outputId": "b2be29f9-ec70-4b65-d873-471b7c0bd184"
      },
      "source": [
        "df = pd.read_csv('/content/combined_data_4.txt', header = None, names = ['Cust_Id', 'Rating'], usecols = [0,1])\n",
        "\n",
        "df['Rating'] = df['Rating'].astype(float)\n",
        "df"
      ],
      "execution_count": null,
      "outputs": [
        {
          "output_type": "execute_result",
          "data": {
            "text/html": [
              "<div>\n",
              "<style scoped>\n",
              "    .dataframe tbody tr th:only-of-type {\n",
              "        vertical-align: middle;\n",
              "    }\n",
              "\n",
              "    .dataframe tbody tr th {\n",
              "        vertical-align: top;\n",
              "    }\n",
              "\n",
              "    .dataframe thead th {\n",
              "        text-align: right;\n",
              "    }\n",
              "</style>\n",
              "<table border=\"1\" class=\"dataframe\">\n",
              "  <thead>\n",
              "    <tr style=\"text-align: right;\">\n",
              "      <th></th>\n",
              "      <th>Cust_Id</th>\n",
              "      <th>Rating</th>\n",
              "    </tr>\n",
              "  </thead>\n",
              "  <tbody>\n",
              "    <tr>\n",
              "      <th>0</th>\n",
              "      <td>13368:</td>\n",
              "      <td>NaN</td>\n",
              "    </tr>\n",
              "    <tr>\n",
              "      <th>1</th>\n",
              "      <td>2385003</td>\n",
              "      <td>4.0</td>\n",
              "    </tr>\n",
              "    <tr>\n",
              "      <th>2</th>\n",
              "      <td>659432</td>\n",
              "      <td>3.0</td>\n",
              "    </tr>\n",
              "    <tr>\n",
              "      <th>3</th>\n",
              "      <td>751812</td>\n",
              "      <td>2.0</td>\n",
              "    </tr>\n",
              "    <tr>\n",
              "      <th>4</th>\n",
              "      <td>2625420</td>\n",
              "      <td>2.0</td>\n",
              "    </tr>\n",
              "    <tr>\n",
              "      <th>...</th>\n",
              "      <td>...</td>\n",
              "      <td>...</td>\n",
              "    </tr>\n",
              "    <tr>\n",
              "      <th>713399</th>\n",
              "      <td>1895407</td>\n",
              "      <td>4.0</td>\n",
              "    </tr>\n",
              "    <tr>\n",
              "      <th>713400</th>\n",
              "      <td>1633406</td>\n",
              "      <td>5.0</td>\n",
              "    </tr>\n",
              "    <tr>\n",
              "      <th>713401</th>\n",
              "      <td>50282</td>\n",
              "      <td>3.0</td>\n",
              "    </tr>\n",
              "    <tr>\n",
              "      <th>713402</th>\n",
              "      <td>828677</td>\n",
              "      <td>3.0</td>\n",
              "    </tr>\n",
              "    <tr>\n",
              "      <th>713403</th>\n",
              "      <td>1806018</td>\n",
              "      <td>2.0</td>\n",
              "    </tr>\n",
              "  </tbody>\n",
              "</table>\n",
              "<p>713404 rows × 2 columns</p>\n",
              "</div>"
            ],
            "text/plain": [
              "        Cust_Id  Rating\n",
              "0        13368:     NaN\n",
              "1       2385003     4.0\n",
              "2        659432     3.0\n",
              "3        751812     2.0\n",
              "4       2625420     2.0\n",
              "...         ...     ...\n",
              "713399  1895407     4.0\n",
              "713400  1633406     5.0\n",
              "713401    50282     3.0\n",
              "713402   828677     3.0\n",
              "713403  1806018     2.0\n",
              "\n",
              "[713404 rows x 2 columns]"
            ]
          },
          "metadata": {
            "tags": []
          },
          "execution_count": 3
        }
      ]
    },
    {
      "cell_type": "code",
      "metadata": {
        "id": "VfQ1S2VuuK3p",
        "colab_type": "code",
        "colab": {
          "base_uri": "https://localhost:8080/",
          "height": 51
        },
        "outputId": "2d42d685-8784-441f-a869-6f4ad8053fa5"
      },
      "source": [
        "df_nan = pd.DataFrame(pd.isnull(df.Rating))\n",
        "df_nan = df_nan[df_nan['Rating'] == True]\n",
        "df_nan = df_nan.reset_index()\n",
        "\n",
        "movie_np = []\n",
        "movie_id = 1\n",
        "\n",
        "for i,j in zip(df_nan['index'][1:],df_nan['index'][:-1]):\n",
        "    # numpy approach\n",
        "    temp = np.full((1,i-j-1), movie_id)\n",
        "    movie_np = np.append(movie_np, temp)\n",
        "    movie_id += 1\n",
        "\n",
        "# Account for last record and corresponding length\n",
        "# numpy approach\n",
        "last_record = np.full((1,len(df) - df_nan.iloc[-1, 0] - 1),movie_id)\n",
        "movie_np = np.append(movie_np, last_record)\n",
        "\n",
        "print('Movie numpy: {}'.format(movie_np))\n",
        "print('Length: {}'.format(len(movie_np)))"
      ],
      "execution_count": null,
      "outputs": [
        {
          "output_type": "stream",
          "text": [
            "Movie numpy: [ 1.  1.  1. ... 95. 95. 95.]\n",
            "Length: 713309\n"
          ],
          "name": "stdout"
        }
      ]
    },
    {
      "cell_type": "code",
      "metadata": {
        "id": "jV_811vmuRIM",
        "colab_type": "code",
        "colab": {
          "base_uri": "https://localhost:8080/",
          "height": 436
        },
        "outputId": "e2c884b0-95cb-4476-efef-4f1b204d6426"
      },
      "source": [
        "df = df[pd.notnull(df['Rating'])]\n",
        "\n",
        "df['Movie_Id'] = movie_np.astype(int)\n",
        "df['Cust_Id'] = df['Cust_Id'].astype(int)\n",
        "print('-Dataset examples-')\n",
        "#print(df.iloc[::5000000, :])\n",
        "df"
      ],
      "execution_count": null,
      "outputs": [
        {
          "output_type": "stream",
          "text": [
            "-Dataset examples-\n"
          ],
          "name": "stdout"
        },
        {
          "output_type": "execute_result",
          "data": {
            "text/html": [
              "<div>\n",
              "<style scoped>\n",
              "    .dataframe tbody tr th:only-of-type {\n",
              "        vertical-align: middle;\n",
              "    }\n",
              "\n",
              "    .dataframe tbody tr th {\n",
              "        vertical-align: top;\n",
              "    }\n",
              "\n",
              "    .dataframe thead th {\n",
              "        text-align: right;\n",
              "    }\n",
              "</style>\n",
              "<table border=\"1\" class=\"dataframe\">\n",
              "  <thead>\n",
              "    <tr style=\"text-align: right;\">\n",
              "      <th></th>\n",
              "      <th>Cust_Id</th>\n",
              "      <th>Rating</th>\n",
              "      <th>Movie_Id</th>\n",
              "    </tr>\n",
              "  </thead>\n",
              "  <tbody>\n",
              "    <tr>\n",
              "      <th>1</th>\n",
              "      <td>2385003</td>\n",
              "      <td>4.0</td>\n",
              "      <td>1</td>\n",
              "    </tr>\n",
              "    <tr>\n",
              "      <th>2</th>\n",
              "      <td>659432</td>\n",
              "      <td>3.0</td>\n",
              "      <td>1</td>\n",
              "    </tr>\n",
              "    <tr>\n",
              "      <th>3</th>\n",
              "      <td>751812</td>\n",
              "      <td>2.0</td>\n",
              "      <td>1</td>\n",
              "    </tr>\n",
              "    <tr>\n",
              "      <th>4</th>\n",
              "      <td>2625420</td>\n",
              "      <td>2.0</td>\n",
              "      <td>1</td>\n",
              "    </tr>\n",
              "    <tr>\n",
              "      <th>5</th>\n",
              "      <td>1650301</td>\n",
              "      <td>1.0</td>\n",
              "      <td>1</td>\n",
              "    </tr>\n",
              "    <tr>\n",
              "      <th>...</th>\n",
              "      <td>...</td>\n",
              "      <td>...</td>\n",
              "      <td>...</td>\n",
              "    </tr>\n",
              "    <tr>\n",
              "      <th>713399</th>\n",
              "      <td>1895407</td>\n",
              "      <td>4.0</td>\n",
              "      <td>95</td>\n",
              "    </tr>\n",
              "    <tr>\n",
              "      <th>713400</th>\n",
              "      <td>1633406</td>\n",
              "      <td>5.0</td>\n",
              "      <td>95</td>\n",
              "    </tr>\n",
              "    <tr>\n",
              "      <th>713401</th>\n",
              "      <td>50282</td>\n",
              "      <td>3.0</td>\n",
              "      <td>95</td>\n",
              "    </tr>\n",
              "    <tr>\n",
              "      <th>713402</th>\n",
              "      <td>828677</td>\n",
              "      <td>3.0</td>\n",
              "      <td>95</td>\n",
              "    </tr>\n",
              "    <tr>\n",
              "      <th>713403</th>\n",
              "      <td>1806018</td>\n",
              "      <td>2.0</td>\n",
              "      <td>95</td>\n",
              "    </tr>\n",
              "  </tbody>\n",
              "</table>\n",
              "<p>713309 rows × 3 columns</p>\n",
              "</div>"
            ],
            "text/plain": [
              "        Cust_Id  Rating  Movie_Id\n",
              "1       2385003     4.0         1\n",
              "2        659432     3.0         1\n",
              "3        751812     2.0         1\n",
              "4       2625420     2.0         1\n",
              "5       1650301     1.0         1\n",
              "...         ...     ...       ...\n",
              "713399  1895407     4.0        95\n",
              "713400  1633406     5.0        95\n",
              "713401    50282     3.0        95\n",
              "713402   828677     3.0        95\n",
              "713403  1806018     2.0        95\n",
              "\n",
              "[713309 rows x 3 columns]"
            ]
          },
          "metadata": {
            "tags": []
          },
          "execution_count": 5
        }
      ]
    },
    {
      "cell_type": "code",
      "metadata": {
        "id": "qR3qnROJud3b",
        "colab_type": "code",
        "colab": {
          "base_uri": "https://localhost:8080/",
          "height": 102
        },
        "outputId": "90a7b427-2fa3-4a3e-c010-4d7c6d00db6f"
      },
      "source": [
        "pip install sklearn"
      ],
      "execution_count": null,
      "outputs": [
        {
          "output_type": "stream",
          "text": [
            "Requirement already satisfied: sklearn in /usr/local/lib/python3.6/dist-packages (0.0)\n",
            "Requirement already satisfied: scikit-learn in /usr/local/lib/python3.6/dist-packages (from sklearn) (0.22.2.post1)\n",
            "Requirement already satisfied: joblib>=0.11 in /usr/local/lib/python3.6/dist-packages (from scikit-learn->sklearn) (0.16.0)\n",
            "Requirement already satisfied: numpy>=1.11.0 in /usr/local/lib/python3.6/dist-packages (from scikit-learn->sklearn) (1.18.5)\n",
            "Requirement already satisfied: scipy>=0.17.0 in /usr/local/lib/python3.6/dist-packages (from scikit-learn->sklearn) (1.4.1)\n"
          ],
          "name": "stdout"
        }
      ]
    },
    {
      "cell_type": "code",
      "metadata": {
        "id": "AkGBvg4OujYZ",
        "colab_type": "code",
        "colab": {}
      },
      "source": [
        "from sklearn.preprocessing import LabelEncoder"
      ],
      "execution_count": null,
      "outputs": []
    },
    {
      "cell_type": "code",
      "metadata": {
        "id": "o3UFKI-IusZa",
        "colab_type": "code",
        "colab": {}
      },
      "source": [
        "def encode_user_item(df, user_col, item_col, rating_col):\n",
        "    \"\"\"Function to encode users and items\n",
        "    \n",
        "    Params:     \n",
        "        df (pd.DataFrame): Pandas data frame to be used.\n",
        "        user_col (string): Name of the user column.\n",
        "        item_col (string): Name of the item column.\n",
        "        rating_col (string): Name of the rating column.\n",
        "        timestamp_col (string): Name of the timestamp column.\n",
        "    \n",
        "    Returns: \n",
        "        encoded_df (pd.DataFrame): Modifed dataframe with the users and items index\n",
        "    \"\"\"\n",
        "    \n",
        "    encoded_df = df.copy()\n",
        "    \n",
        "    user_encoder = LabelEncoder()\n",
        "    user_encoder.fit(encoded_df[user_col].values)\n",
        "    n_users = len(user_encoder.classes_)\n",
        "    \n",
        "    item_encoder = LabelEncoder()\n",
        "    item_encoder.fit(encoded_df[item_col].values)\n",
        "    n_items = len(item_encoder.classes_)\n",
        "\n",
        "    encoded_df[\"USER\"] = user_encoder.transform(encoded_df[user_col])\n",
        "    encoded_df[\"ITEM\"] = item_encoder.transform(encoded_df[item_col])\n",
        "    \n",
        "    encoded_df.rename({rating_col: \"RATING\"}, axis=1, inplace=True)\n",
        "    \n",
        "    print(\"Number of users: \", n_users)\n",
        "    print(\"Number of items: \", n_items)\n",
        "    \n",
        "    return encoded_df, user_encoder, item_encoder"
      ],
      "execution_count": null,
      "outputs": []
    },
    {
      "cell_type": "code",
      "metadata": {
        "id": "HyYxvAsqut2q",
        "colab_type": "code",
        "colab": {
          "base_uri": "https://localhost:8080/",
          "height": 51
        },
        "outputId": "840baa41-ace4-47d8-9db3-4e2fff55df25"
      },
      "source": [
        "#Data Encoding\n",
        "DATA, user_encoder, item_encoder = encode_user_item(df, \"Cust_Id\", \"Movie_Id\", \"Rating\")"
      ],
      "execution_count": null,
      "outputs": [
        {
          "output_type": "stream",
          "text": [
            "Number of users:  256849\n",
            "Number of items:  95\n"
          ],
          "name": "stdout"
        }
      ]
    },
    {
      "cell_type": "code",
      "metadata": {
        "id": "oYu_VZQWuyLB",
        "colab_type": "code",
        "colab": {
          "base_uri": "https://localhost:8080/",
          "height": 34
        },
        "outputId": "462b7e04-d8c1-4be2-b0b6-06f902c6be44"
      },
      "source": [
        "n_users = DATA.USER.nunique()\n",
        "n_items = DATA.ITEM.nunique()\n",
        "n_users, n_items"
      ],
      "execution_count": null,
      "outputs": [
        {
          "output_type": "execute_result",
          "data": {
            "text/plain": [
              "(256849, 95)"
            ]
          },
          "metadata": {
            "tags": []
          },
          "execution_count": 10
        }
      ]
    },
    {
      "cell_type": "code",
      "metadata": {
        "id": "Pim7352Pu34H",
        "colab_type": "code",
        "colab": {
          "base_uri": "https://localhost:8080/",
          "height": 34
        },
        "outputId": "f62669ce-58b2-4cec-d8fd-f6fdd6d2219c"
      },
      "source": [
        "max_rating = DATA.RATING.max()\n",
        "min_rating = DATA.RATING.min()\n",
        "min_rating, max_rating"
      ],
      "execution_count": null,
      "outputs": [
        {
          "output_type": "execute_result",
          "data": {
            "text/plain": [
              "(1.0, 5.0)"
            ]
          },
          "metadata": {
            "tags": []
          },
          "execution_count": 11
        }
      ]
    },
    {
      "cell_type": "code",
      "metadata": {
        "id": "-cz-TRX5u8Pk",
        "colab_type": "code",
        "colab": {}
      },
      "source": [
        "def random_split (df, ratios, shuffle=False):\n",
        "    \n",
        "    \"\"\"Function to split pandas DataFrame into train, validation and test\n",
        "    \n",
        "    Params:     \n",
        "        df (pd.DataFrame): Pandas data frame to be split.\n",
        "        ratios (list of floats): list of ratios for split. The ratios have to sum to 1.\n",
        "    \n",
        "    Returns: \n",
        "        list: List of pd.DataFrame split by the given specifications.\n",
        "    \"\"\"\n",
        "    seed = 42                  # Set random seed\n",
        "    if shuffle == True:\n",
        "        df = df.sample(frac=1)     # Shuffle the data\n",
        "    samples = df.shape[0]      # Number of samples\n",
        "    \n",
        "    # Converts [0.7, 0.2, 0.1] to [0.7, 0.9]\n",
        "    split_ratio = np.cumsum(ratios).tolist()[:-1] # Get split index\n",
        "    \n",
        "    # Get the rounded integer split index\n",
        "    split_index = [round(x * samples) for x in split_ratio]\n",
        "    \n",
        "    # split the data\n",
        "    splits = np.split(df, split_index)\n",
        "    \n",
        "    # Add split index (this makes splitting by group more efficient).\n",
        "    for i in range(len(ratios)):\n",
        "        splits[i][\"split_index\"] = i\n",
        "\n",
        "    return splits"
      ],
      "execution_count": null,
      "outputs": []
    },
    {
      "cell_type": "code",
      "metadata": {
        "id": "izE8wMCtvBUy",
        "colab_type": "code",
        "colab": {}
      },
      "source": [
        "# Data Splitting\n",
        "train, test = random_split(DATA, [0.8, 0.2])"
      ],
      "execution_count": null,
      "outputs": []
    },
    {
      "cell_type": "code",
      "metadata": {
        "id": "13S56Vi-vGDW",
        "colab_type": "code",
        "colab": {
          "base_uri": "https://localhost:8080/",
          "height": 34
        },
        "outputId": "66312820-bfbc-4981-b6f7-c5da87ecf244"
      },
      "source": [
        "train.shape, test.shape"
      ],
      "execution_count": null,
      "outputs": [
        {
          "output_type": "execute_result",
          "data": {
            "text/plain": [
              "((570647, 6), (142662, 6))"
            ]
          },
          "metadata": {
            "tags": []
          },
          "execution_count": 14
        }
      ]
    },
    {
      "cell_type": "markdown",
      "metadata": {
        "id": "fhh5hBwoW6Ki",
        "colab_type": "text"
      },
      "source": [
        "# Deep Matrix Factorisation "
      ]
    },
    {
      "cell_type": "code",
      "metadata": {
        "id": "Ak2EQ6FevJ_t",
        "colab_type": "code",
        "colab": {}
      },
      "source": [
        "from keras.models import Model\n",
        "from keras.layers import  Input,Embedding, Flatten, Dot, Add, Lambda, Activation, Reshape, Concatenate, Dense, Dropout\n",
        "from keras.regularizers import l2\n",
        "from keras.constraints import non_neg\n",
        "from keras.optimizers import Adam\n",
        "from keras.utils import plot_model\n",
        "from keras.utils.vis_utils import model_to_dot"
      ],
      "execution_count": null,
      "outputs": []
    },
    {
      "cell_type": "markdown",
      "metadata": {
        "id": "dTpEk3DAXu1x",
        "colab_type": "text"
      },
      "source": [
        "### Build the Model"
      ]
    },
    {
      "cell_type": "code",
      "metadata": {
        "id": "O3ae-e0JvQ04",
        "colab_type": "code",
        "colab": {}
      },
      "source": [
        "def Deep_MF(n_users, n_items, n_factors):\n",
        "    \n",
        "    # Item Layer\n",
        "    item_input = Input(shape=[1], name='Item')\n",
        "    item_embedding = Embedding(n_items, n_factors, embeddings_regularizer=l2(1e-6),\n",
        "                               embeddings_initializer='glorot_normal',\n",
        "                               name='ItemEmbedding')(item_input)\n",
        "    item_vec = Flatten(name='FlattenItemE')(item_embedding)\n",
        "    \n",
        "    # Item Bias\n",
        "    item_bias = Embedding(n_items, 1, embeddings_regularizer=l2(1e-6), \n",
        "                          embeddings_initializer='glorot_normal',\n",
        "                          name='ItemBias')(item_input)\n",
        "    item_bias_vec = Flatten(name='FlattenItemBiasE')(item_bias)\n",
        "\n",
        "    # User Layer\n",
        "    user_input = Input(shape=[1], name='User')\n",
        "    user_embedding = Embedding(n_users, n_factors, embeddings_regularizer=l2(1e-6),\n",
        "                               embeddings_initializer='glorot_normal',\n",
        "                               name='UserEmbedding')(user_input)\n",
        "    user_vec = Flatten(name='FlattenUserE')(user_embedding)\n",
        "    \n",
        "    # User Bias\n",
        "    user_bias = Embedding(n_users, 1, embeddings_regularizer=l2(1e-6), \n",
        "                        embeddings_initializer='glorot_normal',\n",
        "                          name='UserBias')(user_input)\n",
        "    user_bias_vec = Flatten(name='FlattenUserBiasE')(user_bias)\n",
        "\n",
        "    # Dot Product of Item and User & then Add Bias\n",
        "    Concat = Concatenate(name='Concat')([item_vec, user_vec])\n",
        "    ConcatDrop = Dropout(0.5)(Concat)\n",
        "\n",
        "    kernel_initializer='he_normal'\n",
        "    \n",
        "    # Use Dense to learn non-linear dense representation\n",
        "    Dense_1 = Dense(10, kernel_initializer='glorot_normal', name=\"Dense1\")(ConcatDrop)\n",
        "    Dense_1_Drop = Dropout(0.5)(Dense_1)\n",
        "    Dense_2 = Dense(1, kernel_initializer='glorot_normal', name=\"Dense2\")(Dense_1_Drop)\n",
        "\n",
        "    \n",
        "    AddBias = Add(name=\"AddBias\")([Dense_2, item_bias_vec, user_bias_vec])\n",
        "    \n",
        "    \n",
        "    \n",
        "    # Scaling for each user\n",
        "    y = Activation('relu')(AddBias)\n",
        "    rating_output = Lambda(lambda x: x * (max_rating - min_rating) + min_rating)(y)\n",
        "    \n",
        "    # Model Creation\n",
        "    model = Model([user_input, item_input], rating_output)\n",
        "    \n",
        "    # Compile Model\n",
        "    model.compile(loss='mean_squared_error', optimizer=Adam(lr=0.001))\n",
        "    \n",
        "    return model"
      ],
      "execution_count": null,
      "outputs": []
    },
    {
      "cell_type": "code",
      "metadata": {
        "id": "qu0wI3Q9vY65",
        "colab_type": "code",
        "colab": {}
      },
      "source": [
        "n_factors = 50\n",
        "model = Deep_MF(n_users, n_items, n_factors)"
      ],
      "execution_count": null,
      "outputs": []
    },
    {
      "cell_type": "code",
      "metadata": {
        "id": "3I9v6kAlvd5n",
        "colab_type": "code",
        "colab": {
          "base_uri": "https://localhost:8080/",
          "height": 816
        },
        "outputId": "719c048c-a022-4770-c615-fdd08406cc6e"
      },
      "source": [
        "model.summary()"
      ],
      "execution_count": null,
      "outputs": [
        {
          "output_type": "stream",
          "text": [
            "Model: \"functional_1\"\n",
            "__________________________________________________________________________________________________\n",
            "Layer (type)                    Output Shape         Param #     Connected to                     \n",
            "==================================================================================================\n",
            "Item (InputLayer)               [(None, 1)]          0                                            \n",
            "__________________________________________________________________________________________________\n",
            "User (InputLayer)               [(None, 1)]          0                                            \n",
            "__________________________________________________________________________________________________\n",
            "ItemEmbedding (Embedding)       (None, 1, 50)        4750        Item[0][0]                       \n",
            "__________________________________________________________________________________________________\n",
            "UserEmbedding (Embedding)       (None, 1, 50)        12842450    User[0][0]                       \n",
            "__________________________________________________________________________________________________\n",
            "FlattenItemE (Flatten)          (None, 50)           0           ItemEmbedding[0][0]              \n",
            "__________________________________________________________________________________________________\n",
            "FlattenUserE (Flatten)          (None, 50)           0           UserEmbedding[0][0]              \n",
            "__________________________________________________________________________________________________\n",
            "Concat (Concatenate)            (None, 100)          0           FlattenItemE[0][0]               \n",
            "                                                                 FlattenUserE[0][0]               \n",
            "__________________________________________________________________________________________________\n",
            "dropout (Dropout)               (None, 100)          0           Concat[0][0]                     \n",
            "__________________________________________________________________________________________________\n",
            "Dense1 (Dense)                  (None, 10)           1010        dropout[0][0]                    \n",
            "__________________________________________________________________________________________________\n",
            "dropout_1 (Dropout)             (None, 10)           0           Dense1[0][0]                     \n",
            "__________________________________________________________________________________________________\n",
            "ItemBias (Embedding)            (None, 1, 1)         95          Item[0][0]                       \n",
            "__________________________________________________________________________________________________\n",
            "UserBias (Embedding)            (None, 1, 1)         256849      User[0][0]                       \n",
            "__________________________________________________________________________________________________\n",
            "Dense2 (Dense)                  (None, 1)            11          dropout_1[0][0]                  \n",
            "__________________________________________________________________________________________________\n",
            "FlattenItemBiasE (Flatten)      (None, 1)            0           ItemBias[0][0]                   \n",
            "__________________________________________________________________________________________________\n",
            "FlattenUserBiasE (Flatten)      (None, 1)            0           UserBias[0][0]                   \n",
            "__________________________________________________________________________________________________\n",
            "AddBias (Add)                   (None, 1)            0           Dense2[0][0]                     \n",
            "                                                                 FlattenItemBiasE[0][0]           \n",
            "                                                                 FlattenUserBiasE[0][0]           \n",
            "__________________________________________________________________________________________________\n",
            "activation (Activation)         (None, 1)            0           AddBias[0][0]                    \n",
            "__________________________________________________________________________________________________\n",
            "lambda (Lambda)                 (None, 1)            0           activation[0][0]                 \n",
            "==================================================================================================\n",
            "Total params: 13,105,165\n",
            "Trainable params: 13,105,165\n",
            "Non-trainable params: 0\n",
            "__________________________________________________________________________________________________\n"
          ],
          "name": "stdout"
        }
      ]
    },
    {
      "cell_type": "markdown",
      "metadata": {
        "id": "NAqXBkE4Xaep",
        "colab_type": "text"
      },
      "source": [
        "### Train the Model"
      ]
    },
    {
      "cell_type": "code",
      "metadata": {
        "id": "SAWEyckUvhqe",
        "colab_type": "code",
        "colab": {
          "base_uri": "https://localhost:8080/",
          "height": 119
        },
        "outputId": "a291be11-5a49-4039-9c85-1b9a06acad6a"
      },
      "source": [
        "%%time\n",
        "output = model.fit([train.USER, train.ITEM], train.RATING, \n",
        "                                  batch_size=128, epochs=2, verbose=1\n",
        "                   ,validation_data= ([test.USER, test.ITEM], test.RATING))"
      ],
      "execution_count": null,
      "outputs": [
        {
          "output_type": "stream",
          "text": [
            "Epoch 1/2\n",
            "4459/4459 [==============================] - 548s 123ms/step - loss: 1.0625 - val_loss: 1.2582\n",
            "Epoch 2/2\n",
            "4459/4459 [==============================] - 546s 122ms/step - loss: 0.8089 - val_loss: 1.2525\n",
            "CPU times: user 31min 39s, sys: 57.4 s, total: 32min 36s\n",
            "Wall time: 18min 14s\n"
          ],
          "name": "stdout"
        }
      ]
    },
    {
      "cell_type": "code",
      "metadata": {
        "id": "DIuudbFev0Hd",
        "colab_type": "code",
        "colab": {}
      },
      "source": [
        "import altair as alt\n",
        "import matplotlib.pyplot as plt\n",
        "from mpl_toolkits.mplot3d import Axes3D\n",
        "\n",
        "from keras.preprocessing.image import ImageDataGenerator\n",
        "\n",
        "        \n",
        "# Visualise the metrics from the model\n",
        "def metrics(history):\n",
        "    df = pd.DataFrame(history)\n",
        "    df.reset_index()\n",
        "    df[\"batch\"] = df.index + 1\n",
        "    df = df.melt(\"batch\", var_name=\"name\")\n",
        "    df[\"val\"] = df.name.str.startswith(\"val\")\n",
        "    df[\"type\"] = df[\"val\"]\n",
        "    df[\"metrics\"] = df[\"val\"]\n",
        "    df.loc[df.val == False, \"type\"] = \"training\"\n",
        "    df.loc[df.val == True, \"type\"] = \"validation\"\n",
        "    df.loc[df.val == False, \"metrics\"] = df.name\n",
        "    df.loc[df.val == True, \"metrics\"] = df.name.str.split(\"val_\", expand=True)[1]\n",
        "    df = df.drop([\"name\", \"val\"], axis=1)\n",
        "    \n",
        "    base = alt.Chart().encode(\n",
        "        x = \"batch:Q\",\n",
        "        y = \"value:Q\",\n",
        "        color = \"type\"\n",
        "    ).properties(width = 300, height = 300)\n",
        "\n",
        "    layers = base.mark_circle(size = 50).encode(tooltip = [\"batch\", \"value\"]) + base.mark_line()\n",
        "    chart = layers.facet(column='metrics:N', data=df).resolve_scale(y='independent')    \n",
        "    \n",
        "    return chart"
      ],
      "execution_count": null,
      "outputs": []
    },
    {
      "cell_type": "code",
      "metadata": {
        "id": "mPysfGmIv1k5",
        "colab_type": "code",
        "colab": {
          "base_uri": "https://localhost:8080/",
          "height": 421
        },
        "outputId": "13f78e6b-06ec-4593-b26c-0689763da4c8"
      },
      "source": [
        "metrics(output.history)"
      ],
      "execution_count": null,
      "outputs": [
        {
          "output_type": "execute_result",
          "data": {
            "text/plain": [
              "alt.FacetChart(...)"
            ],
            "text/html": [
              "\n",
              "<div id=\"altair-viz-4f3b22759a2a40c4a367df9ea795aada\"></div>\n",
              "<script type=\"text/javascript\">\n",
              "  (function(spec, embedOpt){\n",
              "    let outputDiv = document.currentScript.previousElementSibling;\n",
              "    if (outputDiv.id !== \"altair-viz-4f3b22759a2a40c4a367df9ea795aada\") {\n",
              "      outputDiv = document.getElementById(\"altair-viz-4f3b22759a2a40c4a367df9ea795aada\");\n",
              "    }\n",
              "    const paths = {\n",
              "      \"vega\": \"https://cdn.jsdelivr.net/npm//vega@5?noext\",\n",
              "      \"vega-lib\": \"https://cdn.jsdelivr.net/npm//vega-lib?noext\",\n",
              "      \"vega-lite\": \"https://cdn.jsdelivr.net/npm//vega-lite@4.8.1?noext\",\n",
              "      \"vega-embed\": \"https://cdn.jsdelivr.net/npm//vega-embed@6?noext\",\n",
              "    };\n",
              "\n",
              "    function loadScript(lib) {\n",
              "      return new Promise(function(resolve, reject) {\n",
              "        var s = document.createElement('script');\n",
              "        s.src = paths[lib];\n",
              "        s.async = true;\n",
              "        s.onload = () => resolve(paths[lib]);\n",
              "        s.onerror = () => reject(`Error loading script: ${paths[lib]}`);\n",
              "        document.getElementsByTagName(\"head\")[0].appendChild(s);\n",
              "      });\n",
              "    }\n",
              "\n",
              "    function showError(err) {\n",
              "      outputDiv.innerHTML = `<div class=\"error\" style=\"color:red;\">${err}</div>`;\n",
              "      throw err;\n",
              "    }\n",
              "\n",
              "    function displayChart(vegaEmbed) {\n",
              "      vegaEmbed(outputDiv, spec, embedOpt)\n",
              "        .catch(err => showError(`Javascript Error: ${err.message}<br>This usually means there's a typo in your chart specification. See the javascript console for the full traceback.`));\n",
              "    }\n",
              "\n",
              "    if(typeof define === \"function\" && define.amd) {\n",
              "      requirejs.config({paths});\n",
              "      require([\"vega-embed\"], displayChart, err => showError(`Error loading script: ${err.message}`));\n",
              "    } else if (typeof vegaEmbed === \"function\") {\n",
              "      displayChart(vegaEmbed);\n",
              "    } else {\n",
              "      loadScript(\"vega\")\n",
              "        .then(() => loadScript(\"vega-lite\"))\n",
              "        .then(() => loadScript(\"vega-embed\"))\n",
              "        .catch(showError)\n",
              "        .then(() => displayChart(vegaEmbed));\n",
              "    }\n",
              "  })({\"config\": {\"view\": {\"continuousWidth\": 400, \"continuousHeight\": 300}}, \"data\": {\"name\": \"data-064ce71f8007fb4215f79c531dff0914\"}, \"facet\": {\"column\": {\"type\": \"nominal\", \"field\": \"metrics\"}}, \"spec\": {\"layer\": [{\"mark\": {\"type\": \"circle\", \"size\": 50}, \"encoding\": {\"color\": {\"type\": \"nominal\", \"field\": \"type\"}, \"tooltip\": [{\"type\": \"quantitative\", \"field\": \"batch\"}, {\"type\": \"quantitative\", \"field\": \"value\"}], \"x\": {\"type\": \"quantitative\", \"field\": \"batch\"}, \"y\": {\"type\": \"quantitative\", \"field\": \"value\"}}, \"height\": 300, \"width\": 300}, {\"mark\": \"line\", \"encoding\": {\"color\": {\"type\": \"nominal\", \"field\": \"type\"}, \"x\": {\"type\": \"quantitative\", \"field\": \"batch\"}, \"y\": {\"type\": \"quantitative\", \"field\": \"value\"}}, \"height\": 300, \"width\": 300}]}, \"resolve\": {\"scale\": {\"y\": \"independent\"}}, \"$schema\": \"https://vega.github.io/schema/vega-lite/v4.8.1.json\", \"datasets\": {\"data-064ce71f8007fb4215f79c531dff0914\": [{\"batch\": 1, \"value\": 1.062544584274292, \"type\": \"training\", \"metrics\": \"loss\"}, {\"batch\": 2, \"value\": 0.8088665008544922, \"type\": \"training\", \"metrics\": \"loss\"}, {\"batch\": 1, \"value\": 1.2581791877746582, \"type\": \"validation\", \"metrics\": \"loss\"}, {\"batch\": 2, \"value\": 1.2524888515472412, \"type\": \"validation\", \"metrics\": \"loss\"}]}}, {\"mode\": \"vega-lite\"});\n",
              "</script>"
            ]
          },
          "metadata": {
            "tags": []
          },
          "execution_count": 21
        }
      ]
    },
    {
      "cell_type": "markdown",
      "metadata": {
        "id": "u1me1GvWYBiH",
        "colab_type": "text"
      },
      "source": [
        "### Score the Model"
      ]
    },
    {
      "cell_type": "code",
      "metadata": {
        "id": "9jtkvZV3v6Cn",
        "colab_type": "code",
        "colab": {
          "base_uri": "https://localhost:8080/",
          "height": 51
        },
        "outputId": "d9ff66bf-8d23-4c64-dee5-fbe07f2a1619"
      },
      "source": [
        "score = model.evaluate([test.USER, test.ITEM], test.RATING, verbose=1)\n",
        "score"
      ],
      "execution_count": null,
      "outputs": [
        {
          "output_type": "stream",
          "text": [
            "4459/4459 [==============================] - 129s 29ms/step - loss: 1.2525\n"
          ],
          "name": "stdout"
        },
        {
          "output_type": "execute_result",
          "data": {
            "text/plain": [
              "1.2524906396865845"
            ]
          },
          "metadata": {
            "tags": []
          },
          "execution_count": 22
        }
      ]
    },
    {
      "cell_type": "code",
      "metadata": {
        "id": "jnnDibviv_UB",
        "colab_type": "code",
        "colab": {
          "base_uri": "https://localhost:8080/",
          "height": 51
        },
        "outputId": "407ea9d9-a160-4631-a336-29d3f4ae7ce9"
      },
      "source": [
        "from sklearn.metrics import mean_absolute_error\n",
        "from sklearn.metrics import mean_squared_error\n",
        "print(mean_absolute_error(test.RATING, model.predict([test.USER, test.ITEM])))\n",
        "print(mean_squared_error(test.RATING, model.predict([test.USER, test.ITEM])))"
      ],
      "execution_count": null,
      "outputs": [
        {
          "output_type": "stream",
          "text": [
            "0.8991074942741635\n",
            "1.2424912061078879\n"
          ],
          "name": "stdout"
        }
      ]
    },
    {
      "cell_type": "markdown",
      "metadata": {
        "id": "wJIxoxZ3YVMn",
        "colab_type": "text"
      },
      "source": [
        "### Prediction & recommendation"
      ]
    },
    {
      "cell_type": "markdown",
      "metadata": {
        "id": "4cczrvdvYWVx",
        "colab_type": "text"
      },
      "source": [
        "### Get Similar Items"
      ]
    }
  ]
}